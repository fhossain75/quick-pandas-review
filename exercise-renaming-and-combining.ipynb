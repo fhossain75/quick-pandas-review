{
 "cells": [
  {
   "cell_type": "markdown",
   "id": "eda25e1c",
   "metadata": {
    "papermill": {
     "duration": 0.005174,
     "end_time": "2023-10-14T05:38:30.704089",
     "exception": false,
     "start_time": "2023-10-14T05:38:30.698915",
     "status": "completed"
    },
    "tags": []
   },
   "source": [
    "**This notebook is an exercise in the [Pandas](https://www.kaggle.com/learn/pandas) course.  You can reference the tutorial at [this link](https://www.kaggle.com/residentmario/renaming-and-combining).**\n",
    "\n",
    "---\n"
   ]
  },
  {
   "cell_type": "markdown",
   "id": "ce6886d1",
   "metadata": {
    "papermill": {
     "duration": 0.003924,
     "end_time": "2023-10-14T05:38:30.716988",
     "exception": false,
     "start_time": "2023-10-14T05:38:30.713064",
     "status": "completed"
    },
    "tags": []
   },
   "source": [
    "# Introduction\n",
    "\n",
    "Run the following cell to load your data and some utility functions."
   ]
  },
  {
   "cell_type": "code",
   "execution_count": 1,
   "id": "abaff8a2",
   "metadata": {
    "execution": {
     "iopub.execute_input": "2023-10-14T05:38:30.728395Z",
     "iopub.status.busy": "2023-10-14T05:38:30.727806Z",
     "iopub.status.idle": "2023-10-14T05:38:36.318890Z",
     "shell.execute_reply": "2023-10-14T05:38:36.317667Z"
    },
    "papermill": {
     "duration": 5.60126,
     "end_time": "2023-10-14T05:38:36.322331",
     "exception": false,
     "start_time": "2023-10-14T05:38:30.721071",
     "status": "completed"
    },
    "tags": []
   },
   "outputs": [
    {
     "name": "stdout",
     "output_type": "stream",
     "text": [
      "Setup complete.\n"
     ]
    }
   ],
   "source": [
    "import pandas as pd\n",
    "\n",
    "reviews = pd.read_csv(\"../input/wine-reviews/winemag-data-130k-v2.csv\", index_col=0)\n",
    "\n",
    "from learntools.core import binder; binder.bind(globals())\n",
    "from learntools.pandas.renaming_and_combining import *\n",
    "print(\"Setup complete.\")"
   ]
  },
  {
   "cell_type": "markdown",
   "id": "b0f8f5a0",
   "metadata": {
    "papermill": {
     "duration": 0.00391,
     "end_time": "2023-10-14T05:38:36.331373",
     "exception": false,
     "start_time": "2023-10-14T05:38:36.327463",
     "status": "completed"
    },
    "tags": []
   },
   "source": [
    "# Exercises\n",
    "\n",
    "View the first several lines of your data by running the cell below:"
   ]
  },
  {
   "cell_type": "code",
   "execution_count": 2,
   "id": "da39ada6",
   "metadata": {
    "execution": {
     "iopub.execute_input": "2023-10-14T05:38:36.341871Z",
     "iopub.status.busy": "2023-10-14T05:38:36.341440Z",
     "iopub.status.idle": "2023-10-14T05:38:36.367770Z",
     "shell.execute_reply": "2023-10-14T05:38:36.366308Z"
    },
    "papermill": {
     "duration": 0.034717,
     "end_time": "2023-10-14T05:38:36.370400",
     "exception": false,
     "start_time": "2023-10-14T05:38:36.335683",
     "status": "completed"
    },
    "tags": []
   },
   "outputs": [
    {
     "data": {
      "text/html": [
       "<div>\n",
       "<style scoped>\n",
       "    .dataframe tbody tr th:only-of-type {\n",
       "        vertical-align: middle;\n",
       "    }\n",
       "\n",
       "    .dataframe tbody tr th {\n",
       "        vertical-align: top;\n",
       "    }\n",
       "\n",
       "    .dataframe thead th {\n",
       "        text-align: right;\n",
       "    }\n",
       "</style>\n",
       "<table border=\"1\" class=\"dataframe\">\n",
       "  <thead>\n",
       "    <tr style=\"text-align: right;\">\n",
       "      <th></th>\n",
       "      <th>country</th>\n",
       "      <th>description</th>\n",
       "      <th>designation</th>\n",
       "      <th>points</th>\n",
       "      <th>price</th>\n",
       "      <th>province</th>\n",
       "      <th>region_1</th>\n",
       "      <th>region_2</th>\n",
       "      <th>taster_name</th>\n",
       "      <th>taster_twitter_handle</th>\n",
       "      <th>title</th>\n",
       "      <th>variety</th>\n",
       "      <th>winery</th>\n",
       "    </tr>\n",
       "  </thead>\n",
       "  <tbody>\n",
       "    <tr>\n",
       "      <th>0</th>\n",
       "      <td>Italy</td>\n",
       "      <td>Aromas include tropical fruit, broom, brimston...</td>\n",
       "      <td>Vulkà Bianco</td>\n",
       "      <td>87</td>\n",
       "      <td>NaN</td>\n",
       "      <td>Sicily &amp; Sardinia</td>\n",
       "      <td>Etna</td>\n",
       "      <td>NaN</td>\n",
       "      <td>Kerin O’Keefe</td>\n",
       "      <td>@kerinokeefe</td>\n",
       "      <td>Nicosia 2013 Vulkà Bianco  (Etna)</td>\n",
       "      <td>White Blend</td>\n",
       "      <td>Nicosia</td>\n",
       "    </tr>\n",
       "    <tr>\n",
       "      <th>1</th>\n",
       "      <td>Portugal</td>\n",
       "      <td>This is ripe and fruity, a wine that is smooth...</td>\n",
       "      <td>Avidagos</td>\n",
       "      <td>87</td>\n",
       "      <td>15.0</td>\n",
       "      <td>Douro</td>\n",
       "      <td>NaN</td>\n",
       "      <td>NaN</td>\n",
       "      <td>Roger Voss</td>\n",
       "      <td>@vossroger</td>\n",
       "      <td>Quinta dos Avidagos 2011 Avidagos Red (Douro)</td>\n",
       "      <td>Portuguese Red</td>\n",
       "      <td>Quinta dos Avidagos</td>\n",
       "    </tr>\n",
       "    <tr>\n",
       "      <th>2</th>\n",
       "      <td>US</td>\n",
       "      <td>Tart and snappy, the flavors of lime flesh and...</td>\n",
       "      <td>NaN</td>\n",
       "      <td>87</td>\n",
       "      <td>14.0</td>\n",
       "      <td>Oregon</td>\n",
       "      <td>Willamette Valley</td>\n",
       "      <td>Willamette Valley</td>\n",
       "      <td>Paul Gregutt</td>\n",
       "      <td>@paulgwine</td>\n",
       "      <td>Rainstorm 2013 Pinot Gris (Willamette Valley)</td>\n",
       "      <td>Pinot Gris</td>\n",
       "      <td>Rainstorm</td>\n",
       "    </tr>\n",
       "    <tr>\n",
       "      <th>3</th>\n",
       "      <td>US</td>\n",
       "      <td>Pineapple rind, lemon pith and orange blossom ...</td>\n",
       "      <td>Reserve Late Harvest</td>\n",
       "      <td>87</td>\n",
       "      <td>13.0</td>\n",
       "      <td>Michigan</td>\n",
       "      <td>Lake Michigan Shore</td>\n",
       "      <td>NaN</td>\n",
       "      <td>Alexander Peartree</td>\n",
       "      <td>NaN</td>\n",
       "      <td>St. Julian 2013 Reserve Late Harvest Riesling ...</td>\n",
       "      <td>Riesling</td>\n",
       "      <td>St. Julian</td>\n",
       "    </tr>\n",
       "    <tr>\n",
       "      <th>4</th>\n",
       "      <td>US</td>\n",
       "      <td>Much like the regular bottling from 2012, this...</td>\n",
       "      <td>Vintner's Reserve Wild Child Block</td>\n",
       "      <td>87</td>\n",
       "      <td>65.0</td>\n",
       "      <td>Oregon</td>\n",
       "      <td>Willamette Valley</td>\n",
       "      <td>Willamette Valley</td>\n",
       "      <td>Paul Gregutt</td>\n",
       "      <td>@paulgwine</td>\n",
       "      <td>Sweet Cheeks 2012 Vintner's Reserve Wild Child...</td>\n",
       "      <td>Pinot Noir</td>\n",
       "      <td>Sweet Cheeks</td>\n",
       "    </tr>\n",
       "  </tbody>\n",
       "</table>\n",
       "</div>"
      ],
      "text/plain": [
       "    country                                        description  \\\n",
       "0     Italy  Aromas include tropical fruit, broom, brimston...   \n",
       "1  Portugal  This is ripe and fruity, a wine that is smooth...   \n",
       "2        US  Tart and snappy, the flavors of lime flesh and...   \n",
       "3        US  Pineapple rind, lemon pith and orange blossom ...   \n",
       "4        US  Much like the regular bottling from 2012, this...   \n",
       "\n",
       "                          designation  points  price           province  \\\n",
       "0                        Vulkà Bianco      87    NaN  Sicily & Sardinia   \n",
       "1                            Avidagos      87   15.0              Douro   \n",
       "2                                 NaN      87   14.0             Oregon   \n",
       "3                Reserve Late Harvest      87   13.0           Michigan   \n",
       "4  Vintner's Reserve Wild Child Block      87   65.0             Oregon   \n",
       "\n",
       "              region_1           region_2         taster_name  \\\n",
       "0                 Etna                NaN       Kerin O’Keefe   \n",
       "1                  NaN                NaN          Roger Voss   \n",
       "2    Willamette Valley  Willamette Valley        Paul Gregutt   \n",
       "3  Lake Michigan Shore                NaN  Alexander Peartree   \n",
       "4    Willamette Valley  Willamette Valley        Paul Gregutt   \n",
       "\n",
       "  taster_twitter_handle                                              title  \\\n",
       "0          @kerinokeefe                  Nicosia 2013 Vulkà Bianco  (Etna)   \n",
       "1            @vossroger      Quinta dos Avidagos 2011 Avidagos Red (Douro)   \n",
       "2           @paulgwine       Rainstorm 2013 Pinot Gris (Willamette Valley)   \n",
       "3                   NaN  St. Julian 2013 Reserve Late Harvest Riesling ...   \n",
       "4           @paulgwine   Sweet Cheeks 2012 Vintner's Reserve Wild Child...   \n",
       "\n",
       "          variety               winery  \n",
       "0     White Blend              Nicosia  \n",
       "1  Portuguese Red  Quinta dos Avidagos  \n",
       "2      Pinot Gris            Rainstorm  \n",
       "3        Riesling           St. Julian  \n",
       "4      Pinot Noir         Sweet Cheeks  "
      ]
     },
     "execution_count": 2,
     "metadata": {},
     "output_type": "execute_result"
    }
   ],
   "source": [
    "reviews.head()"
   ]
  },
  {
   "cell_type": "markdown",
   "id": "7e545877",
   "metadata": {
    "papermill": {
     "duration": 0.004413,
     "end_time": "2023-10-14T05:38:36.379718",
     "exception": false,
     "start_time": "2023-10-14T05:38:36.375305",
     "status": "completed"
    },
    "tags": []
   },
   "source": [
    "## 1.\n",
    "`region_1` and `region_2` are pretty uninformative names for locale columns in the dataset. Create a copy of `reviews` with these columns renamed to `region` and `locale`, respectively."
   ]
  },
  {
   "cell_type": "code",
   "execution_count": 3,
   "id": "2b21912e",
   "metadata": {
    "execution": {
     "iopub.execute_input": "2023-10-14T05:38:36.391737Z",
     "iopub.status.busy": "2023-10-14T05:38:36.391294Z",
     "iopub.status.idle": "2023-10-14T05:38:36.401430Z",
     "shell.execute_reply": "2023-10-14T05:38:36.400230Z"
    },
    "papermill": {
     "duration": 0.019044,
     "end_time": "2023-10-14T05:38:36.403900",
     "exception": false,
     "start_time": "2023-10-14T05:38:36.384856",
     "status": "completed"
    },
    "tags": []
   },
   "outputs": [
    {
     "data": {
      "application/javascript": [
       "parent.postMessage({\"jupyterEvent\": \"custom.exercise_interaction\", \"data\": {\"outcomeType\": 4, \"interactionType\": 1, \"questionType\": 1, \"questionId\": \"1_RenameCols\", \"learnToolsVersion\": \"0.3.4\", \"valueTowardsCompletion\": 0.0, \"failureMessage\": \"\", \"exceptionClass\": \"\", \"trace\": \"\"}}, \"*\")"
      ],
      "text/plain": [
       "<IPython.core.display.Javascript object>"
      ]
     },
     "metadata": {},
     "output_type": "display_data"
    },
    {
     "data": {
      "text/markdown": [
       "<span style=\"color:#ccaa33\">Check:</span> When you've updated the starter code, `check()` will tell you whether your code is correct. You need to update the code that creates variable `renamed`"
      ],
      "text/plain": [
       "Check: When you've updated the starter code, `check()` will tell you whether your code is correct. You need to update the code that creates variable `renamed`"
      ]
     },
     "metadata": {},
     "output_type": "display_data"
    }
   ],
   "source": [
    "# Your code here\n",
    "renamed = ____\n",
    "\n",
    "# Check your answer\n",
    "q1.check()"
   ]
  },
  {
   "cell_type": "code",
   "execution_count": 4,
   "id": "3736413f",
   "metadata": {
    "execution": {
     "iopub.execute_input": "2023-10-14T05:38:36.416718Z",
     "iopub.status.busy": "2023-10-14T05:38:36.416260Z",
     "iopub.status.idle": "2023-10-14T05:38:36.421879Z",
     "shell.execute_reply": "2023-10-14T05:38:36.420698Z"
    },
    "papermill": {
     "duration": 0.015223,
     "end_time": "2023-10-14T05:38:36.424188",
     "exception": false,
     "start_time": "2023-10-14T05:38:36.408965",
     "status": "completed"
    },
    "tags": []
   },
   "outputs": [],
   "source": [
    "#q1.hint()\n",
    "#q1.solution()"
   ]
  },
  {
   "cell_type": "markdown",
   "id": "0b326b84",
   "metadata": {
    "papermill": {
     "duration": 0.004596,
     "end_time": "2023-10-14T05:38:36.433896",
     "exception": false,
     "start_time": "2023-10-14T05:38:36.429300",
     "status": "completed"
    },
    "tags": []
   },
   "source": [
    "## 2.\n",
    "Set the index name in the dataset to `wines`."
   ]
  },
  {
   "cell_type": "code",
   "execution_count": 5,
   "id": "dfa5ec51",
   "metadata": {
    "execution": {
     "iopub.execute_input": "2023-10-14T05:38:36.445970Z",
     "iopub.status.busy": "2023-10-14T05:38:36.445524Z",
     "iopub.status.idle": "2023-10-14T05:38:36.455317Z",
     "shell.execute_reply": "2023-10-14T05:38:36.454180Z"
    },
    "papermill": {
     "duration": 0.018612,
     "end_time": "2023-10-14T05:38:36.457541",
     "exception": false,
     "start_time": "2023-10-14T05:38:36.438929",
     "status": "completed"
    },
    "tags": []
   },
   "outputs": [
    {
     "data": {
      "application/javascript": [
       "parent.postMessage({\"jupyterEvent\": \"custom.exercise_interaction\", \"data\": {\"outcomeType\": 4, \"interactionType\": 1, \"questionType\": 1, \"questionId\": \"2_RenameIndex\", \"learnToolsVersion\": \"0.3.4\", \"valueTowardsCompletion\": 0.0, \"failureMessage\": \"\", \"exceptionClass\": \"\", \"trace\": \"\"}}, \"*\")"
      ],
      "text/plain": [
       "<IPython.core.display.Javascript object>"
      ]
     },
     "metadata": {},
     "output_type": "display_data"
    },
    {
     "data": {
      "text/markdown": [
       "<span style=\"color:#ccaa33\">Check:</span> When you've updated the starter code, `check()` will tell you whether your code is correct. You need to update the code that creates variable `reindexed`"
      ],
      "text/plain": [
       "Check: When you've updated the starter code, `check()` will tell you whether your code is correct. You need to update the code that creates variable `reindexed`"
      ]
     },
     "metadata": {},
     "output_type": "display_data"
    }
   ],
   "source": [
    "reindexed = ____\n",
    "\n",
    "# Check your answer\n",
    "q2.check()"
   ]
  },
  {
   "cell_type": "code",
   "execution_count": 6,
   "id": "96992e10",
   "metadata": {
    "execution": {
     "iopub.execute_input": "2023-10-14T05:38:36.470216Z",
     "iopub.status.busy": "2023-10-14T05:38:36.469758Z",
     "iopub.status.idle": "2023-10-14T05:38:36.474899Z",
     "shell.execute_reply": "2023-10-14T05:38:36.473677Z"
    },
    "papermill": {
     "duration": 0.014277,
     "end_time": "2023-10-14T05:38:36.477171",
     "exception": false,
     "start_time": "2023-10-14T05:38:36.462894",
     "status": "completed"
    },
    "tags": []
   },
   "outputs": [],
   "source": [
    "#q2.hint()\n",
    "#q2.solution()"
   ]
  },
  {
   "cell_type": "markdown",
   "id": "d39612ab",
   "metadata": {
    "papermill": {
     "duration": 0.004832,
     "end_time": "2023-10-14T05:38:36.487545",
     "exception": false,
     "start_time": "2023-10-14T05:38:36.482713",
     "status": "completed"
    },
    "tags": []
   },
   "source": [
    "## 3.\n",
    "The [Things on Reddit](https://www.kaggle.com/residentmario/things-on-reddit/data) dataset includes product links from a selection of top-ranked forums (\"subreddits\") on reddit.com. Run the cell below to load a dataframe of products mentioned on the */r/gaming* subreddit and another dataframe for products mentioned on the *r//movies* subreddit."
   ]
  },
  {
   "cell_type": "code",
   "execution_count": 7,
   "id": "f0050885",
   "metadata": {
    "execution": {
     "iopub.execute_input": "2023-10-14T05:38:36.499834Z",
     "iopub.status.busy": "2023-10-14T05:38:36.499409Z",
     "iopub.status.idle": "2023-10-14T05:38:36.516091Z",
     "shell.execute_reply": "2023-10-14T05:38:36.515070Z"
    },
    "papermill": {
     "duration": 0.026513,
     "end_time": "2023-10-14T05:38:36.519294",
     "exception": false,
     "start_time": "2023-10-14T05:38:36.492781",
     "status": "completed"
    },
    "tags": []
   },
   "outputs": [],
   "source": [
    "gaming_products = pd.read_csv(\"../input/things-on-reddit/top-things/top-things/reddits/g/gaming.csv\")\n",
    "gaming_products['subreddit'] = \"r/gaming\"\n",
    "movie_products = pd.read_csv(\"../input/things-on-reddit/top-things/top-things/reddits/m/movies.csv\")\n",
    "movie_products['subreddit'] = \"r/movies\""
   ]
  },
  {
   "cell_type": "markdown",
   "id": "90c6837b",
   "metadata": {
    "papermill": {
     "duration": 0.005054,
     "end_time": "2023-10-14T05:38:36.529879",
     "exception": false,
     "start_time": "2023-10-14T05:38:36.524825",
     "status": "completed"
    },
    "tags": []
   },
   "source": [
    "Create a `DataFrame` of products mentioned on *either* subreddit."
   ]
  },
  {
   "cell_type": "code",
   "execution_count": 8,
   "id": "ad0e2a6b",
   "metadata": {
    "execution": {
     "iopub.execute_input": "2023-10-14T05:38:36.542790Z",
     "iopub.status.busy": "2023-10-14T05:38:36.542241Z",
     "iopub.status.idle": "2023-10-14T05:38:36.552269Z",
     "shell.execute_reply": "2023-10-14T05:38:36.551102Z"
    },
    "papermill": {
     "duration": 0.019688,
     "end_time": "2023-10-14T05:38:36.554844",
     "exception": false,
     "start_time": "2023-10-14T05:38:36.535156",
     "status": "completed"
    },
    "tags": []
   },
   "outputs": [
    {
     "data": {
      "application/javascript": [
       "parent.postMessage({\"jupyterEvent\": \"custom.exercise_interaction\", \"data\": {\"outcomeType\": 4, \"interactionType\": 1, \"questionType\": 2, \"questionId\": \"3_ConcatReddit\", \"learnToolsVersion\": \"0.3.4\", \"valueTowardsCompletion\": 0.0, \"failureMessage\": \"\", \"exceptionClass\": \"\", \"trace\": \"\"}}, \"*\")"
      ],
      "text/plain": [
       "<IPython.core.display.Javascript object>"
      ]
     },
     "metadata": {},
     "output_type": "display_data"
    },
    {
     "data": {
      "text/markdown": [
       "<span style=\"color:#ccaa33\">Check:</span> When you've updated the starter code, `check()` will tell you whether your code is correct. You need to update the code that creates variable `combined_products`"
      ],
      "text/plain": [
       "Check: When you've updated the starter code, `check()` will tell you whether your code is correct. You need to update the code that creates variable `combined_products`"
      ]
     },
     "metadata": {},
     "output_type": "display_data"
    }
   ],
   "source": [
    "combined_products = ____\n",
    "\n",
    "# Check your answer\n",
    "q3.check()"
   ]
  },
  {
   "cell_type": "code",
   "execution_count": 9,
   "id": "c6ea1c93",
   "metadata": {
    "execution": {
     "iopub.execute_input": "2023-10-14T05:38:36.568052Z",
     "iopub.status.busy": "2023-10-14T05:38:36.567609Z",
     "iopub.status.idle": "2023-10-14T05:38:36.572445Z",
     "shell.execute_reply": "2023-10-14T05:38:36.571189Z"
    },
    "papermill": {
     "duration": 0.01412,
     "end_time": "2023-10-14T05:38:36.574700",
     "exception": false,
     "start_time": "2023-10-14T05:38:36.560580",
     "status": "completed"
    },
    "tags": []
   },
   "outputs": [],
   "source": [
    "#q3.hint()\n",
    "#q3.solution()"
   ]
  },
  {
   "cell_type": "markdown",
   "id": "8cfc47b9",
   "metadata": {
    "papermill": {
     "duration": 0.005527,
     "end_time": "2023-10-14T05:38:36.586035",
     "exception": false,
     "start_time": "2023-10-14T05:38:36.580508",
     "status": "completed"
    },
    "tags": []
   },
   "source": [
    "## 4.\n",
    "The [Powerlifting Database](https://www.kaggle.com/open-powerlifting/powerlifting-database) dataset on Kaggle includes one CSV table for powerlifting meets and a separate one for powerlifting competitors. Run the cell below to load these datasets into dataframes:"
   ]
  },
  {
   "cell_type": "code",
   "execution_count": 10,
   "id": "3ed9153a",
   "metadata": {
    "execution": {
     "iopub.execute_input": "2023-10-14T05:38:36.599621Z",
     "iopub.status.busy": "2023-10-14T05:38:36.599169Z",
     "iopub.status.idle": "2023-10-14T05:38:37.567368Z",
     "shell.execute_reply": "2023-10-14T05:38:37.566179Z"
    },
    "papermill": {
     "duration": 0.978199,
     "end_time": "2023-10-14T05:38:37.570175",
     "exception": false,
     "start_time": "2023-10-14T05:38:36.591976",
     "status": "completed"
    },
    "tags": []
   },
   "outputs": [],
   "source": [
    "powerlifting_meets = pd.read_csv(\"../input/powerlifting-database/meets.csv\")\n",
    "powerlifting_competitors = pd.read_csv(\"../input/powerlifting-database/openpowerlifting.csv\")"
   ]
  },
  {
   "cell_type": "markdown",
   "id": "69b015be",
   "metadata": {
    "papermill": {
     "duration": 0.005364,
     "end_time": "2023-10-14T05:38:37.581410",
     "exception": false,
     "start_time": "2023-10-14T05:38:37.576046",
     "status": "completed"
    },
    "tags": []
   },
   "source": [
    "Both tables include references to a `MeetID`, a unique key for each meet (competition) included in the database. Using this, generate a dataset combining the two tables into one."
   ]
  },
  {
   "cell_type": "code",
   "execution_count": 11,
   "id": "7cc61edb",
   "metadata": {
    "execution": {
     "iopub.execute_input": "2023-10-14T05:38:37.596155Z",
     "iopub.status.busy": "2023-10-14T05:38:37.594965Z",
     "iopub.status.idle": "2023-10-14T05:38:37.605829Z",
     "shell.execute_reply": "2023-10-14T05:38:37.604565Z"
    },
    "papermill": {
     "duration": 0.020692,
     "end_time": "2023-10-14T05:38:37.608027",
     "exception": false,
     "start_time": "2023-10-14T05:38:37.587335",
     "status": "completed"
    },
    "tags": []
   },
   "outputs": [
    {
     "data": {
      "application/javascript": [
       "parent.postMessage({\"jupyterEvent\": \"custom.exercise_interaction\", \"data\": {\"outcomeType\": 4, \"interactionType\": 1, \"questionType\": 2, \"questionId\": \"4_JoinLifting\", \"learnToolsVersion\": \"0.3.4\", \"valueTowardsCompletion\": 0.0, \"failureMessage\": \"\", \"exceptionClass\": \"\", \"trace\": \"\"}}, \"*\")"
      ],
      "text/plain": [
       "<IPython.core.display.Javascript object>"
      ]
     },
     "metadata": {},
     "output_type": "display_data"
    },
    {
     "data": {
      "text/markdown": [
       "<span style=\"color:#ccaa33\">Check:</span> When you've updated the starter code, `check()` will tell you whether your code is correct. You need to update the code that creates variable `powerlifting_combined`"
      ],
      "text/plain": [
       "Check: When you've updated the starter code, `check()` will tell you whether your code is correct. You need to update the code that creates variable `powerlifting_combined`"
      ]
     },
     "metadata": {},
     "output_type": "display_data"
    }
   ],
   "source": [
    "powerlifting_combined = ____\n",
    "\n",
    "# Check your answer\n",
    "q4.check()"
   ]
  },
  {
   "cell_type": "code",
   "execution_count": 12,
   "id": "fdec0225",
   "metadata": {
    "execution": {
     "iopub.execute_input": "2023-10-14T05:38:37.622077Z",
     "iopub.status.busy": "2023-10-14T05:38:37.621614Z",
     "iopub.status.idle": "2023-10-14T05:38:37.626675Z",
     "shell.execute_reply": "2023-10-14T05:38:37.625355Z"
    },
    "papermill": {
     "duration": 0.014812,
     "end_time": "2023-10-14T05:38:37.628951",
     "exception": false,
     "start_time": "2023-10-14T05:38:37.614139",
     "status": "completed"
    },
    "tags": []
   },
   "outputs": [],
   "source": [
    "#q4.hint()\n",
    "#q4.solution()"
   ]
  },
  {
   "cell_type": "markdown",
   "id": "c1e88b54",
   "metadata": {
    "papermill": {
     "duration": 0.005923,
     "end_time": "2023-10-14T05:38:37.640980",
     "exception": false,
     "start_time": "2023-10-14T05:38:37.635057",
     "status": "completed"
    },
    "tags": []
   },
   "source": [
    "# Congratulations!\n",
    "\n",
    "You've finished the Pandas micro-course.  Many data scientists feel efficiency with Pandas is the most useful and practical skill they have, because it allows you to progress quickly in any project you have.\n",
    "\n",
    "If you'd like to apply your new skills to examining geospatial data, you're encouraged to check out our **[Geospatial Analysis](https://www.kaggle.com/learn/geospatial-analysis)** micro-course.\n",
    "\n",
    "You can also take advantage of your Pandas skills by entering a **[Kaggle Competition](https://www.kaggle.com/competitions)** or by answering a question you find interesting using **[Kaggle Datasets](https://www.kaggle.com/datasets)**."
   ]
  },
  {
   "cell_type": "markdown",
   "id": "03b709f7",
   "metadata": {
    "papermill": {
     "duration": 0.005678,
     "end_time": "2023-10-14T05:38:37.652686",
     "exception": false,
     "start_time": "2023-10-14T05:38:37.647008",
     "status": "completed"
    },
    "tags": []
   },
   "source": [
    "---\n",
    "\n",
    "\n",
    "\n",
    "\n",
    "*Have questions or comments? Visit the [course discussion forum](https://www.kaggle.com/learn/pandas/discussion) to chat with other learners.*"
   ]
  }
 ],
 "metadata": {
  "kernelspec": {
   "display_name": "Python 3",
   "language": "python",
   "name": "python3"
  },
  "language_info": {
   "codemirror_mode": {
    "name": "ipython",
    "version": 3
   },
   "file_extension": ".py",
   "mimetype": "text/x-python",
   "name": "python",
   "nbconvert_exporter": "python",
   "pygments_lexer": "ipython3",
   "version": "3.10.12"
  },
  "papermill": {
   "default_parameters": {},
   "duration": 11.4164,
   "end_time": "2023-10-14T05:38:38.483559",
   "environment_variables": {},
   "exception": null,
   "input_path": "__notebook__.ipynb",
   "output_path": "__notebook__.ipynb",
   "parameters": {},
   "start_time": "2023-10-14T05:38:27.067159",
   "version": "2.4.0"
  }
 },
 "nbformat": 4,
 "nbformat_minor": 5
}
