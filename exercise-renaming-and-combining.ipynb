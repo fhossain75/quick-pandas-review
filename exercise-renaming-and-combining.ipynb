{
 "cells": [
  {
   "cell_type": "markdown",
   "id": "af4210e8",
   "metadata": {
    "papermill": {
     "duration": 0.004949,
     "end_time": "2023-10-14T05:50:53.594665",
     "exception": false,
     "start_time": "2023-10-14T05:50:53.589716",
     "status": "completed"
    },
    "tags": []
   },
   "source": [
    "**This notebook is an exercise in the [Pandas](https://www.kaggle.com/learn/pandas) course.  You can reference the tutorial at [this link](https://www.kaggle.com/residentmario/renaming-and-combining).**\n",
    "\n",
    "---\n"
   ]
  },
  {
   "cell_type": "markdown",
   "id": "f28a5d6b",
   "metadata": {
    "papermill": {
     "duration": 0.004118,
     "end_time": "2023-10-14T05:50:53.603344",
     "exception": false,
     "start_time": "2023-10-14T05:50:53.599226",
     "status": "completed"
    },
    "tags": []
   },
   "source": [
    "# Introduction\n",
    "\n",
    "Run the following cell to load your data and some utility functions."
   ]
  },
  {
   "cell_type": "code",
   "execution_count": 1,
   "id": "b2e165d0",
   "metadata": {
    "execution": {
     "iopub.execute_input": "2023-10-14T05:50:53.613703Z",
     "iopub.status.busy": "2023-10-14T05:50:53.613066Z",
     "iopub.status.idle": "2023-10-14T05:50:58.087541Z",
     "shell.execute_reply": "2023-10-14T05:50:58.086817Z"
    },
    "papermill": {
     "duration": 4.482067,
     "end_time": "2023-10-14T05:50:58.089646",
     "exception": false,
     "start_time": "2023-10-14T05:50:53.607579",
     "status": "completed"
    },
    "tags": []
   },
   "outputs": [
    {
     "name": "stdout",
     "output_type": "stream",
     "text": [
      "Setup complete.\n"
     ]
    }
   ],
   "source": [
    "import pandas as pd\n",
    "\n",
    "reviews = pd.read_csv(\"../input/wine-reviews/winemag-data-130k-v2.csv\", index_col=0)\n",
    "\n",
    "from learntools.core import binder; binder.bind(globals())\n",
    "from learntools.pandas.renaming_and_combining import *\n",
    "print(\"Setup complete.\")"
   ]
  },
  {
   "cell_type": "markdown",
   "id": "319ac47a",
   "metadata": {
    "papermill": {
     "duration": 0.004068,
     "end_time": "2023-10-14T05:50:58.098269",
     "exception": false,
     "start_time": "2023-10-14T05:50:58.094201",
     "status": "completed"
    },
    "tags": []
   },
   "source": [
    "# Exercises\n",
    "\n",
    "View the first several lines of your data by running the cell below:"
   ]
  },
  {
   "cell_type": "code",
   "execution_count": 2,
   "id": "e828abfb",
   "metadata": {
    "execution": {
     "iopub.execute_input": "2023-10-14T05:50:58.108480Z",
     "iopub.status.busy": "2023-10-14T05:50:58.107831Z",
     "iopub.status.idle": "2023-10-14T05:50:58.127484Z",
     "shell.execute_reply": "2023-10-14T05:50:58.126754Z"
    },
    "papermill": {
     "duration": 0.026795,
     "end_time": "2023-10-14T05:50:58.129273",
     "exception": false,
     "start_time": "2023-10-14T05:50:58.102478",
     "status": "completed"
    },
    "tags": []
   },
   "outputs": [
    {
     "data": {
      "text/html": [
       "<div>\n",
       "<style scoped>\n",
       "    .dataframe tbody tr th:only-of-type {\n",
       "        vertical-align: middle;\n",
       "    }\n",
       "\n",
       "    .dataframe tbody tr th {\n",
       "        vertical-align: top;\n",
       "    }\n",
       "\n",
       "    .dataframe thead th {\n",
       "        text-align: right;\n",
       "    }\n",
       "</style>\n",
       "<table border=\"1\" class=\"dataframe\">\n",
       "  <thead>\n",
       "    <tr style=\"text-align: right;\">\n",
       "      <th></th>\n",
       "      <th>country</th>\n",
       "      <th>description</th>\n",
       "      <th>designation</th>\n",
       "      <th>points</th>\n",
       "      <th>price</th>\n",
       "      <th>province</th>\n",
       "      <th>region_1</th>\n",
       "      <th>region_2</th>\n",
       "      <th>taster_name</th>\n",
       "      <th>taster_twitter_handle</th>\n",
       "      <th>title</th>\n",
       "      <th>variety</th>\n",
       "      <th>winery</th>\n",
       "    </tr>\n",
       "  </thead>\n",
       "  <tbody>\n",
       "    <tr>\n",
       "      <th>0</th>\n",
       "      <td>Italy</td>\n",
       "      <td>Aromas include tropical fruit, broom, brimston...</td>\n",
       "      <td>Vulkà Bianco</td>\n",
       "      <td>87</td>\n",
       "      <td>NaN</td>\n",
       "      <td>Sicily &amp; Sardinia</td>\n",
       "      <td>Etna</td>\n",
       "      <td>NaN</td>\n",
       "      <td>Kerin O’Keefe</td>\n",
       "      <td>@kerinokeefe</td>\n",
       "      <td>Nicosia 2013 Vulkà Bianco  (Etna)</td>\n",
       "      <td>White Blend</td>\n",
       "      <td>Nicosia</td>\n",
       "    </tr>\n",
       "    <tr>\n",
       "      <th>1</th>\n",
       "      <td>Portugal</td>\n",
       "      <td>This is ripe and fruity, a wine that is smooth...</td>\n",
       "      <td>Avidagos</td>\n",
       "      <td>87</td>\n",
       "      <td>15.0</td>\n",
       "      <td>Douro</td>\n",
       "      <td>NaN</td>\n",
       "      <td>NaN</td>\n",
       "      <td>Roger Voss</td>\n",
       "      <td>@vossroger</td>\n",
       "      <td>Quinta dos Avidagos 2011 Avidagos Red (Douro)</td>\n",
       "      <td>Portuguese Red</td>\n",
       "      <td>Quinta dos Avidagos</td>\n",
       "    </tr>\n",
       "    <tr>\n",
       "      <th>2</th>\n",
       "      <td>US</td>\n",
       "      <td>Tart and snappy, the flavors of lime flesh and...</td>\n",
       "      <td>NaN</td>\n",
       "      <td>87</td>\n",
       "      <td>14.0</td>\n",
       "      <td>Oregon</td>\n",
       "      <td>Willamette Valley</td>\n",
       "      <td>Willamette Valley</td>\n",
       "      <td>Paul Gregutt</td>\n",
       "      <td>@paulgwine</td>\n",
       "      <td>Rainstorm 2013 Pinot Gris (Willamette Valley)</td>\n",
       "      <td>Pinot Gris</td>\n",
       "      <td>Rainstorm</td>\n",
       "    </tr>\n",
       "    <tr>\n",
       "      <th>3</th>\n",
       "      <td>US</td>\n",
       "      <td>Pineapple rind, lemon pith and orange blossom ...</td>\n",
       "      <td>Reserve Late Harvest</td>\n",
       "      <td>87</td>\n",
       "      <td>13.0</td>\n",
       "      <td>Michigan</td>\n",
       "      <td>Lake Michigan Shore</td>\n",
       "      <td>NaN</td>\n",
       "      <td>Alexander Peartree</td>\n",
       "      <td>NaN</td>\n",
       "      <td>St. Julian 2013 Reserve Late Harvest Riesling ...</td>\n",
       "      <td>Riesling</td>\n",
       "      <td>St. Julian</td>\n",
       "    </tr>\n",
       "    <tr>\n",
       "      <th>4</th>\n",
       "      <td>US</td>\n",
       "      <td>Much like the regular bottling from 2012, this...</td>\n",
       "      <td>Vintner's Reserve Wild Child Block</td>\n",
       "      <td>87</td>\n",
       "      <td>65.0</td>\n",
       "      <td>Oregon</td>\n",
       "      <td>Willamette Valley</td>\n",
       "      <td>Willamette Valley</td>\n",
       "      <td>Paul Gregutt</td>\n",
       "      <td>@paulgwine</td>\n",
       "      <td>Sweet Cheeks 2012 Vintner's Reserve Wild Child...</td>\n",
       "      <td>Pinot Noir</td>\n",
       "      <td>Sweet Cheeks</td>\n",
       "    </tr>\n",
       "  </tbody>\n",
       "</table>\n",
       "</div>"
      ],
      "text/plain": [
       "    country                                        description  \\\n",
       "0     Italy  Aromas include tropical fruit, broom, brimston...   \n",
       "1  Portugal  This is ripe and fruity, a wine that is smooth...   \n",
       "2        US  Tart and snappy, the flavors of lime flesh and...   \n",
       "3        US  Pineapple rind, lemon pith and orange blossom ...   \n",
       "4        US  Much like the regular bottling from 2012, this...   \n",
       "\n",
       "                          designation  points  price           province  \\\n",
       "0                        Vulkà Bianco      87    NaN  Sicily & Sardinia   \n",
       "1                            Avidagos      87   15.0              Douro   \n",
       "2                                 NaN      87   14.0             Oregon   \n",
       "3                Reserve Late Harvest      87   13.0           Michigan   \n",
       "4  Vintner's Reserve Wild Child Block      87   65.0             Oregon   \n",
       "\n",
       "              region_1           region_2         taster_name  \\\n",
       "0                 Etna                NaN       Kerin O’Keefe   \n",
       "1                  NaN                NaN          Roger Voss   \n",
       "2    Willamette Valley  Willamette Valley        Paul Gregutt   \n",
       "3  Lake Michigan Shore                NaN  Alexander Peartree   \n",
       "4    Willamette Valley  Willamette Valley        Paul Gregutt   \n",
       "\n",
       "  taster_twitter_handle                                              title  \\\n",
       "0          @kerinokeefe                  Nicosia 2013 Vulkà Bianco  (Etna)   \n",
       "1            @vossroger      Quinta dos Avidagos 2011 Avidagos Red (Douro)   \n",
       "2           @paulgwine       Rainstorm 2013 Pinot Gris (Willamette Valley)   \n",
       "3                   NaN  St. Julian 2013 Reserve Late Harvest Riesling ...   \n",
       "4           @paulgwine   Sweet Cheeks 2012 Vintner's Reserve Wild Child...   \n",
       "\n",
       "          variety               winery  \n",
       "0     White Blend              Nicosia  \n",
       "1  Portuguese Red  Quinta dos Avidagos  \n",
       "2      Pinot Gris            Rainstorm  \n",
       "3        Riesling           St. Julian  \n",
       "4      Pinot Noir         Sweet Cheeks  "
      ]
     },
     "execution_count": 2,
     "metadata": {},
     "output_type": "execute_result"
    }
   ],
   "source": [
    "reviews.head()"
   ]
  },
  {
   "cell_type": "markdown",
   "id": "f24dfe7e",
   "metadata": {
    "papermill": {
     "duration": 0.004482,
     "end_time": "2023-10-14T05:50:58.138533",
     "exception": false,
     "start_time": "2023-10-14T05:50:58.134051",
     "status": "completed"
    },
    "tags": []
   },
   "source": [
    "## 1.\n",
    "`region_1` and `region_2` are pretty uninformative names for locale columns in the dataset. Create a copy of `reviews` with these columns renamed to `region` and `locale`, respectively."
   ]
  },
  {
   "cell_type": "code",
   "execution_count": 3,
   "id": "cd35632b",
   "metadata": {
    "execution": {
     "iopub.execute_input": "2023-10-14T05:50:58.149612Z",
     "iopub.status.busy": "2023-10-14T05:50:58.148987Z",
     "iopub.status.idle": "2023-10-14T05:50:58.167743Z",
     "shell.execute_reply": "2023-10-14T05:50:58.166688Z"
    },
    "papermill": {
     "duration": 0.026299,
     "end_time": "2023-10-14T05:50:58.169507",
     "exception": false,
     "start_time": "2023-10-14T05:50:58.143208",
     "status": "completed"
    },
    "tags": []
   },
   "outputs": [
    {
     "data": {
      "application/javascript": [
       "parent.postMessage({\"jupyterEvent\": \"custom.exercise_interaction\", \"data\": {\"outcomeType\": 1, \"valueTowardsCompletion\": 0.25, \"interactionType\": 1, \"questionType\": 1, \"questionId\": \"1_RenameCols\", \"learnToolsVersion\": \"0.3.4\", \"failureMessage\": \"\", \"exceptionClass\": \"\", \"trace\": \"\"}}, \"*\")"
      ],
      "text/plain": [
       "<IPython.core.display.Javascript object>"
      ]
     },
     "metadata": {},
     "output_type": "display_data"
    },
    {
     "data": {
      "text/markdown": [
       "<span style=\"color:#33cc33\">Correct</span>"
      ],
      "text/plain": [
       "Correct"
      ]
     },
     "metadata": {},
     "output_type": "display_data"
    }
   ],
   "source": [
    "# Your code here\n",
    "renamed = reviews.rename(columns={\"region_1\": \"region\", \"region_2\": \"locale\"})\n",
    "\n",
    "# Check your answer\n",
    "q1.check()"
   ]
  },
  {
   "cell_type": "code",
   "execution_count": 4,
   "id": "c5d31f03",
   "metadata": {
    "execution": {
     "iopub.execute_input": "2023-10-14T05:50:58.180905Z",
     "iopub.status.busy": "2023-10-14T05:50:58.180580Z",
     "iopub.status.idle": "2023-10-14T05:50:58.184425Z",
     "shell.execute_reply": "2023-10-14T05:50:58.183627Z"
    },
    "papermill": {
     "duration": 0.011984,
     "end_time": "2023-10-14T05:50:58.186379",
     "exception": false,
     "start_time": "2023-10-14T05:50:58.174395",
     "status": "completed"
    },
    "tags": []
   },
   "outputs": [],
   "source": [
    "#q1.hint()\n",
    "#q1.solution()"
   ]
  },
  {
   "cell_type": "markdown",
   "id": "3db8e432",
   "metadata": {
    "papermill": {
     "duration": 0.004572,
     "end_time": "2023-10-14T05:50:58.195919",
     "exception": false,
     "start_time": "2023-10-14T05:50:58.191347",
     "status": "completed"
    },
    "tags": []
   },
   "source": [
    "## 2.\n",
    "Set the index name in the dataset to `wines`."
   ]
  },
  {
   "cell_type": "code",
   "execution_count": 5,
   "id": "495c169b",
   "metadata": {
    "execution": {
     "iopub.execute_input": "2023-10-14T05:50:58.207116Z",
     "iopub.status.busy": "2023-10-14T05:50:58.206774Z",
     "iopub.status.idle": "2023-10-14T05:50:58.228421Z",
     "shell.execute_reply": "2023-10-14T05:50:58.227785Z"
    },
    "papermill": {
     "duration": 0.029539,
     "end_time": "2023-10-14T05:50:58.230213",
     "exception": false,
     "start_time": "2023-10-14T05:50:58.200674",
     "status": "completed"
    },
    "tags": []
   },
   "outputs": [
    {
     "name": "stdout",
     "output_type": "stream",
     "text": [
      "        country                                        description  \\\n",
      "wines                                                                \n",
      "0         Italy  Aromas include tropical fruit, broom, brimston...   \n",
      "1      Portugal  This is ripe and fruity, a wine that is smooth...   \n",
      "2            US  Tart and snappy, the flavors of lime flesh and...   \n",
      "\n",
      "        designation  points  price           province           region_1  \\\n",
      "wines                                                                      \n",
      "0      Vulkà Bianco      87    NaN  Sicily & Sardinia               Etna   \n",
      "1          Avidagos      87   15.0              Douro                NaN   \n",
      "2               NaN      87   14.0             Oregon  Willamette Valley   \n",
      "\n",
      "                region_2    taster_name taster_twitter_handle  \\\n",
      "wines                                                           \n",
      "0                    NaN  Kerin O’Keefe          @kerinokeefe   \n",
      "1                    NaN     Roger Voss            @vossroger   \n",
      "2      Willamette Valley   Paul Gregutt           @paulgwine    \n",
      "\n",
      "                                               title         variety  \\\n",
      "wines                                                                  \n",
      "0                  Nicosia 2013 Vulkà Bianco  (Etna)     White Blend   \n",
      "1      Quinta dos Avidagos 2011 Avidagos Red (Douro)  Portuguese Red   \n",
      "2      Rainstorm 2013 Pinot Gris (Willamette Valley)      Pinot Gris   \n",
      "\n",
      "                    winery  \n",
      "wines                       \n",
      "0                  Nicosia  \n",
      "1      Quinta dos Avidagos  \n",
      "2                Rainstorm  \n"
     ]
    },
    {
     "data": {
      "application/javascript": [
       "parent.postMessage({\"jupyterEvent\": \"custom.exercise_interaction\", \"data\": {\"outcomeType\": 1, \"valueTowardsCompletion\": 0.25, \"interactionType\": 1, \"questionType\": 1, \"questionId\": \"2_RenameIndex\", \"learnToolsVersion\": \"0.3.4\", \"failureMessage\": \"\", \"exceptionClass\": \"\", \"trace\": \"\"}}, \"*\")"
      ],
      "text/plain": [
       "<IPython.core.display.Javascript object>"
      ]
     },
     "metadata": {},
     "output_type": "display_data"
    },
    {
     "data": {
      "text/markdown": [
       "<span style=\"color:#33cc33\">Correct</span>"
      ],
      "text/plain": [
       "Correct"
      ]
     },
     "metadata": {},
     "output_type": "display_data"
    }
   ],
   "source": [
    "reindexed = reviews.rename_axis(\"wines\")\n",
    "print(reindexed.head(3))\n",
    "# Check your answer\n",
    "q2.check()"
   ]
  },
  {
   "cell_type": "code",
   "execution_count": 6,
   "id": "171ded3b",
   "metadata": {
    "execution": {
     "iopub.execute_input": "2023-10-14T05:50:58.242041Z",
     "iopub.status.busy": "2023-10-14T05:50:58.241697Z",
     "iopub.status.idle": "2023-10-14T05:50:58.245303Z",
     "shell.execute_reply": "2023-10-14T05:50:58.244345Z"
    },
    "papermill": {
     "duration": 0.011773,
     "end_time": "2023-10-14T05:50:58.247140",
     "exception": false,
     "start_time": "2023-10-14T05:50:58.235367",
     "status": "completed"
    },
    "tags": []
   },
   "outputs": [],
   "source": [
    "#q2.hint()\n",
    "#q2.solution()"
   ]
  },
  {
   "cell_type": "markdown",
   "id": "5f3216ff",
   "metadata": {
    "papermill": {
     "duration": 0.00486,
     "end_time": "2023-10-14T05:50:58.257159",
     "exception": false,
     "start_time": "2023-10-14T05:50:58.252299",
     "status": "completed"
    },
    "tags": []
   },
   "source": [
    "## 3.\n",
    "The [Things on Reddit](https://www.kaggle.com/residentmario/things-on-reddit/data) dataset includes product links from a selection of top-ranked forums (\"subreddits\") on reddit.com. Run the cell below to load a dataframe of products mentioned on the */r/gaming* subreddit and another dataframe for products mentioned on the *r//movies* subreddit."
   ]
  },
  {
   "cell_type": "code",
   "execution_count": 7,
   "id": "e6229ba1",
   "metadata": {
    "execution": {
     "iopub.execute_input": "2023-10-14T05:50:58.268891Z",
     "iopub.status.busy": "2023-10-14T05:50:58.268541Z",
     "iopub.status.idle": "2023-10-14T05:50:58.282545Z",
     "shell.execute_reply": "2023-10-14T05:50:58.281628Z"
    },
    "papermill": {
     "duration": 0.022714,
     "end_time": "2023-10-14T05:50:58.284850",
     "exception": false,
     "start_time": "2023-10-14T05:50:58.262136",
     "status": "completed"
    },
    "tags": []
   },
   "outputs": [],
   "source": [
    "gaming_products = pd.read_csv(\"../input/things-on-reddit/top-things/top-things/reddits/g/gaming.csv\")\n",
    "gaming_products['subreddit'] = \"r/gaming\"\n",
    "movie_products = pd.read_csv(\"../input/things-on-reddit/top-things/top-things/reddits/m/movies.csv\")\n",
    "movie_products['subreddit'] = \"r/movies\""
   ]
  },
  {
   "cell_type": "markdown",
   "id": "34403879",
   "metadata": {
    "papermill": {
     "duration": 0.00502,
     "end_time": "2023-10-14T05:50:58.295467",
     "exception": false,
     "start_time": "2023-10-14T05:50:58.290447",
     "status": "completed"
    },
    "tags": []
   },
   "source": [
    "Create a `DataFrame` of products mentioned on *either* subreddit."
   ]
  },
  {
   "cell_type": "code",
   "execution_count": 8,
   "id": "59a4fe95",
   "metadata": {
    "execution": {
     "iopub.execute_input": "2023-10-14T05:50:58.307377Z",
     "iopub.status.busy": "2023-10-14T05:50:58.307070Z",
     "iopub.status.idle": "2023-10-14T05:50:58.318012Z",
     "shell.execute_reply": "2023-10-14T05:50:58.317028Z"
    },
    "papermill": {
     "duration": 0.019317,
     "end_time": "2023-10-14T05:50:58.319931",
     "exception": false,
     "start_time": "2023-10-14T05:50:58.300614",
     "status": "completed"
    },
    "tags": []
   },
   "outputs": [
    {
     "data": {
      "application/javascript": [
       "parent.postMessage({\"jupyterEvent\": \"custom.exercise_interaction\", \"data\": {\"outcomeType\": 1, \"valueTowardsCompletion\": 0.25, \"interactionType\": 1, \"questionType\": 2, \"questionId\": \"3_ConcatReddit\", \"learnToolsVersion\": \"0.3.4\", \"failureMessage\": \"\", \"exceptionClass\": \"\", \"trace\": \"\"}}, \"*\")"
      ],
      "text/plain": [
       "<IPython.core.display.Javascript object>"
      ]
     },
     "metadata": {},
     "output_type": "display_data"
    },
    {
     "data": {
      "text/markdown": [
       "<span style=\"color:#33cc33\">Correct</span>"
      ],
      "text/plain": [
       "Correct"
      ]
     },
     "metadata": {},
     "output_type": "display_data"
    }
   ],
   "source": [
    "combined_products = pd.concat([gaming_products, movie_products])\n",
    "\n",
    "# Check your answer\n",
    "q3.check()"
   ]
  },
  {
   "cell_type": "code",
   "execution_count": 9,
   "id": "aefd2726",
   "metadata": {
    "execution": {
     "iopub.execute_input": "2023-10-14T05:50:58.332443Z",
     "iopub.status.busy": "2023-10-14T05:50:58.332135Z",
     "iopub.status.idle": "2023-10-14T05:50:58.335941Z",
     "shell.execute_reply": "2023-10-14T05:50:58.334933Z"
    },
    "papermill": {
     "duration": 0.012593,
     "end_time": "2023-10-14T05:50:58.338047",
     "exception": false,
     "start_time": "2023-10-14T05:50:58.325454",
     "status": "completed"
    },
    "tags": []
   },
   "outputs": [],
   "source": [
    "#q3.hint()\n",
    "#q3.solution()"
   ]
  },
  {
   "cell_type": "markdown",
   "id": "bd799f97",
   "metadata": {
    "papermill": {
     "duration": 0.005093,
     "end_time": "2023-10-14T05:50:58.348556",
     "exception": false,
     "start_time": "2023-10-14T05:50:58.343463",
     "status": "completed"
    },
    "tags": []
   },
   "source": [
    "## 4.\n",
    "The [Powerlifting Database](https://www.kaggle.com/open-powerlifting/powerlifting-database) dataset on Kaggle includes one CSV table for powerlifting meets and a separate one for powerlifting competitors. Run the cell below to load these datasets into dataframes:"
   ]
  },
  {
   "cell_type": "code",
   "execution_count": 10,
   "id": "e182d2f2",
   "metadata": {
    "execution": {
     "iopub.execute_input": "2023-10-14T05:50:58.360853Z",
     "iopub.status.busy": "2023-10-14T05:50:58.360509Z",
     "iopub.status.idle": "2023-10-14T05:50:59.109345Z",
     "shell.execute_reply": "2023-10-14T05:50:59.108532Z"
    },
    "papermill": {
     "duration": 0.757818,
     "end_time": "2023-10-14T05:50:59.111776",
     "exception": false,
     "start_time": "2023-10-14T05:50:58.353958",
     "status": "completed"
    },
    "tags": []
   },
   "outputs": [],
   "source": [
    "powerlifting_meets = pd.read_csv(\"../input/powerlifting-database/meets.csv\")\n",
    "powerlifting_competitors = pd.read_csv(\"../input/powerlifting-database/openpowerlifting.csv\")"
   ]
  },
  {
   "cell_type": "code",
   "execution_count": 11,
   "id": "edcbfcfa",
   "metadata": {
    "execution": {
     "iopub.execute_input": "2023-10-14T05:50:59.125467Z",
     "iopub.status.busy": "2023-10-14T05:50:59.124565Z",
     "iopub.status.idle": "2023-10-14T05:50:59.136576Z",
     "shell.execute_reply": "2023-10-14T05:50:59.135421Z"
    },
    "papermill": {
     "duration": 0.020787,
     "end_time": "2023-10-14T05:50:59.138628",
     "exception": false,
     "start_time": "2023-10-14T05:50:59.117841",
     "status": "completed"
    },
    "tags": []
   },
   "outputs": [
    {
     "data": {
      "text/html": [
       "<div>\n",
       "<style scoped>\n",
       "    .dataframe tbody tr th:only-of-type {\n",
       "        vertical-align: middle;\n",
       "    }\n",
       "\n",
       "    .dataframe tbody tr th {\n",
       "        vertical-align: top;\n",
       "    }\n",
       "\n",
       "    .dataframe thead th {\n",
       "        text-align: right;\n",
       "    }\n",
       "</style>\n",
       "<table border=\"1\" class=\"dataframe\">\n",
       "  <thead>\n",
       "    <tr style=\"text-align: right;\">\n",
       "      <th></th>\n",
       "      <th>MeetID</th>\n",
       "      <th>MeetPath</th>\n",
       "      <th>Federation</th>\n",
       "      <th>Date</th>\n",
       "      <th>MeetCountry</th>\n",
       "      <th>MeetState</th>\n",
       "      <th>MeetTown</th>\n",
       "      <th>MeetName</th>\n",
       "    </tr>\n",
       "  </thead>\n",
       "  <tbody>\n",
       "    <tr>\n",
       "      <th>0</th>\n",
       "      <td>0</td>\n",
       "      <td>365strong/1601</td>\n",
       "      <td>365Strong</td>\n",
       "      <td>2016-10-29</td>\n",
       "      <td>USA</td>\n",
       "      <td>NC</td>\n",
       "      <td>Charlotte</td>\n",
       "      <td>2016 Junior &amp; Senior National Powerlifting Cha...</td>\n",
       "    </tr>\n",
       "    <tr>\n",
       "      <th>1</th>\n",
       "      <td>1</td>\n",
       "      <td>365strong/1602</td>\n",
       "      <td>365Strong</td>\n",
       "      <td>2016-11-19</td>\n",
       "      <td>USA</td>\n",
       "      <td>MO</td>\n",
       "      <td>Ozark</td>\n",
       "      <td>Thanksgiving Powerlifting Classic</td>\n",
       "    </tr>\n",
       "    <tr>\n",
       "      <th>2</th>\n",
       "      <td>2</td>\n",
       "      <td>365strong/1603</td>\n",
       "      <td>365Strong</td>\n",
       "      <td>2016-07-09</td>\n",
       "      <td>USA</td>\n",
       "      <td>NC</td>\n",
       "      <td>Charlotte</td>\n",
       "      <td>Charlotte Europa Games</td>\n",
       "    </tr>\n",
       "  </tbody>\n",
       "</table>\n",
       "</div>"
      ],
      "text/plain": [
       "   MeetID        MeetPath Federation        Date MeetCountry MeetState  \\\n",
       "0       0  365strong/1601  365Strong  2016-10-29         USA        NC   \n",
       "1       1  365strong/1602  365Strong  2016-11-19         USA        MO   \n",
       "2       2  365strong/1603  365Strong  2016-07-09         USA        NC   \n",
       "\n",
       "    MeetTown                                           MeetName  \n",
       "0  Charlotte  2016 Junior & Senior National Powerlifting Cha...  \n",
       "1      Ozark                  Thanksgiving Powerlifting Classic  \n",
       "2  Charlotte                             Charlotte Europa Games  "
      ]
     },
     "execution_count": 11,
     "metadata": {},
     "output_type": "execute_result"
    }
   ],
   "source": [
    "powerlifting_meets.head(3)"
   ]
  },
  {
   "cell_type": "code",
   "execution_count": 12,
   "id": "7550aa8f",
   "metadata": {
    "execution": {
     "iopub.execute_input": "2023-10-14T05:50:59.151801Z",
     "iopub.status.busy": "2023-10-14T05:50:59.151280Z",
     "iopub.status.idle": "2023-10-14T05:50:59.169336Z",
     "shell.execute_reply": "2023-10-14T05:50:59.168307Z"
    },
    "papermill": {
     "duration": 0.026807,
     "end_time": "2023-10-14T05:50:59.171330",
     "exception": false,
     "start_time": "2023-10-14T05:50:59.144523",
     "status": "completed"
    },
    "tags": []
   },
   "outputs": [
    {
     "data": {
      "text/html": [
       "<div>\n",
       "<style scoped>\n",
       "    .dataframe tbody tr th:only-of-type {\n",
       "        vertical-align: middle;\n",
       "    }\n",
       "\n",
       "    .dataframe tbody tr th {\n",
       "        vertical-align: top;\n",
       "    }\n",
       "\n",
       "    .dataframe thead th {\n",
       "        text-align: right;\n",
       "    }\n",
       "</style>\n",
       "<table border=\"1\" class=\"dataframe\">\n",
       "  <thead>\n",
       "    <tr style=\"text-align: right;\">\n",
       "      <th></th>\n",
       "      <th>MeetID</th>\n",
       "      <th>Name</th>\n",
       "      <th>Sex</th>\n",
       "      <th>Equipment</th>\n",
       "      <th>Age</th>\n",
       "      <th>Division</th>\n",
       "      <th>BodyweightKg</th>\n",
       "      <th>WeightClassKg</th>\n",
       "      <th>Squat4Kg</th>\n",
       "      <th>BestSquatKg</th>\n",
       "      <th>Bench4Kg</th>\n",
       "      <th>BestBenchKg</th>\n",
       "      <th>Deadlift4Kg</th>\n",
       "      <th>BestDeadliftKg</th>\n",
       "      <th>TotalKg</th>\n",
       "      <th>Place</th>\n",
       "      <th>Wilks</th>\n",
       "    </tr>\n",
       "  </thead>\n",
       "  <tbody>\n",
       "    <tr>\n",
       "      <th>0</th>\n",
       "      <td>0</td>\n",
       "      <td>Angie Belk Terry</td>\n",
       "      <td>F</td>\n",
       "      <td>Wraps</td>\n",
       "      <td>47.0</td>\n",
       "      <td>Mst 45-49</td>\n",
       "      <td>59.60</td>\n",
       "      <td>60</td>\n",
       "      <td>NaN</td>\n",
       "      <td>47.63</td>\n",
       "      <td>NaN</td>\n",
       "      <td>20.41</td>\n",
       "      <td>NaN</td>\n",
       "      <td>70.31</td>\n",
       "      <td>138.35</td>\n",
       "      <td>1</td>\n",
       "      <td>155.05</td>\n",
       "    </tr>\n",
       "    <tr>\n",
       "      <th>1</th>\n",
       "      <td>0</td>\n",
       "      <td>Dawn Bogart</td>\n",
       "      <td>F</td>\n",
       "      <td>Single-ply</td>\n",
       "      <td>42.0</td>\n",
       "      <td>Mst 40-44</td>\n",
       "      <td>58.51</td>\n",
       "      <td>60</td>\n",
       "      <td>NaN</td>\n",
       "      <td>142.88</td>\n",
       "      <td>NaN</td>\n",
       "      <td>95.25</td>\n",
       "      <td>NaN</td>\n",
       "      <td>163.29</td>\n",
       "      <td>401.42</td>\n",
       "      <td>1</td>\n",
       "      <td>456.38</td>\n",
       "    </tr>\n",
       "    <tr>\n",
       "      <th>2</th>\n",
       "      <td>0</td>\n",
       "      <td>Dawn Bogart</td>\n",
       "      <td>F</td>\n",
       "      <td>Single-ply</td>\n",
       "      <td>42.0</td>\n",
       "      <td>Open Senior</td>\n",
       "      <td>58.51</td>\n",
       "      <td>60</td>\n",
       "      <td>NaN</td>\n",
       "      <td>142.88</td>\n",
       "      <td>NaN</td>\n",
       "      <td>95.25</td>\n",
       "      <td>NaN</td>\n",
       "      <td>163.29</td>\n",
       "      <td>401.42</td>\n",
       "      <td>1</td>\n",
       "      <td>456.38</td>\n",
       "    </tr>\n",
       "  </tbody>\n",
       "</table>\n",
       "</div>"
      ],
      "text/plain": [
       "   MeetID              Name Sex   Equipment   Age     Division  BodyweightKg  \\\n",
       "0       0  Angie Belk Terry   F       Wraps  47.0    Mst 45-49         59.60   \n",
       "1       0       Dawn Bogart   F  Single-ply  42.0    Mst 40-44         58.51   \n",
       "2       0       Dawn Bogart   F  Single-ply  42.0  Open Senior         58.51   \n",
       "\n",
       "  WeightClassKg  Squat4Kg  BestSquatKg  Bench4Kg  BestBenchKg  Deadlift4Kg  \\\n",
       "0            60       NaN        47.63       NaN        20.41          NaN   \n",
       "1            60       NaN       142.88       NaN        95.25          NaN   \n",
       "2            60       NaN       142.88       NaN        95.25          NaN   \n",
       "\n",
       "   BestDeadliftKg  TotalKg Place   Wilks  \n",
       "0           70.31   138.35     1  155.05  \n",
       "1          163.29   401.42     1  456.38  \n",
       "2          163.29   401.42     1  456.38  "
      ]
     },
     "execution_count": 12,
     "metadata": {},
     "output_type": "execute_result"
    }
   ],
   "source": [
    "powerlifting_competitors.head(3)"
   ]
  },
  {
   "cell_type": "markdown",
   "id": "62cb8910",
   "metadata": {
    "papermill": {
     "duration": 0.005957,
     "end_time": "2023-10-14T05:50:59.183600",
     "exception": false,
     "start_time": "2023-10-14T05:50:59.177643",
     "status": "completed"
    },
    "tags": []
   },
   "source": [
    "Both tables include references to a `MeetID`, a unique key for each meet (competition) included in the database. Using this, generate a dataset combining the two tables into one."
   ]
  },
  {
   "cell_type": "code",
   "execution_count": 13,
   "id": "4486d351",
   "metadata": {
    "execution": {
     "iopub.execute_input": "2023-10-14T05:50:59.197496Z",
     "iopub.status.busy": "2023-10-14T05:50:59.196805Z",
     "iopub.status.idle": "2023-10-14T05:50:59.889548Z",
     "shell.execute_reply": "2023-10-14T05:50:59.888885Z"
    },
    "papermill": {
     "duration": 0.701448,
     "end_time": "2023-10-14T05:50:59.891168",
     "exception": false,
     "start_time": "2023-10-14T05:50:59.189720",
     "status": "completed"
    },
    "tags": []
   },
   "outputs": [
    {
     "name": "stdout",
     "output_type": "stream",
     "text": [
      "              MeetPath Federation        Date MeetCountry MeetState  \\\n",
      "MeetID                                                                \n",
      "0       365strong/1601  365Strong  2016-10-29         USA        NC   \n",
      "0       365strong/1601  365Strong  2016-10-29         USA        NC   \n",
      "0       365strong/1601  365Strong  2016-10-29         USA        NC   \n",
      "\n",
      "         MeetTown                                           MeetName  \\\n",
      "MeetID                                                                 \n",
      "0       Charlotte  2016 Junior & Senior National Powerlifting Cha...   \n",
      "0       Charlotte  2016 Junior & Senior National Powerlifting Cha...   \n",
      "0       Charlotte  2016 Junior & Senior National Powerlifting Cha...   \n",
      "\n",
      "                    Name Sex   Equipment  ...  WeightClassKg Squat4Kg  \\\n",
      "MeetID                                    ...                           \n",
      "0       Angie Belk Terry   F       Wraps  ...             60      NaN   \n",
      "0            Dawn Bogart   F  Single-ply  ...             60      NaN   \n",
      "0            Dawn Bogart   F  Single-ply  ...             60      NaN   \n",
      "\n",
      "        BestSquatKg Bench4Kg  BestBenchKg  Deadlift4Kg  BestDeadliftKg  \\\n",
      "MeetID                                                                   \n",
      "0             47.63      NaN        20.41          NaN           70.31   \n",
      "0            142.88      NaN        95.25          NaN          163.29   \n",
      "0            142.88      NaN        95.25          NaN          163.29   \n",
      "\n",
      "        TotalKg  Place   Wilks  \n",
      "MeetID                          \n",
      "0        138.35      1  155.05  \n",
      "0        401.42      1  456.38  \n",
      "0        401.42      1  456.38  \n",
      "\n",
      "[3 rows x 23 columns]\n"
     ]
    },
    {
     "data": {
      "application/javascript": [
       "parent.postMessage({\"jupyterEvent\": \"custom.exercise_interaction\", \"data\": {\"outcomeType\": 1, \"valueTowardsCompletion\": 0.25, \"interactionType\": 1, \"questionType\": 2, \"questionId\": \"4_JoinLifting\", \"learnToolsVersion\": \"0.3.4\", \"failureMessage\": \"\", \"exceptionClass\": \"\", \"trace\": \"\"}}, \"*\")"
      ],
      "text/plain": [
       "<IPython.core.display.Javascript object>"
      ]
     },
     "metadata": {},
     "output_type": "display_data"
    },
    {
     "data": {
      "text/markdown": [
       "<span style=\"color:#33cc33\">Correct</span>"
      ],
      "text/plain": [
       "Correct"
      ]
     },
     "metadata": {},
     "output_type": "display_data"
    }
   ],
   "source": [
    "powerlifting_combined = powerlifting_meets.set_index(\"MeetID\").join(powerlifting_competitors.set_index(\"MeetID\"), lsuffix=\"MeetID\", rsuffix=\"MeetID\")\n",
    "print(powerlifting_combined.head(3))\n",
    "# Check your answer\n",
    "q4.check()"
   ]
  },
  {
   "cell_type": "code",
   "execution_count": 14,
   "id": "b5bc52c7",
   "metadata": {
    "execution": {
     "iopub.execute_input": "2023-10-14T05:50:59.905617Z",
     "iopub.status.busy": "2023-10-14T05:50:59.904741Z",
     "iopub.status.idle": "2023-10-14T05:50:59.914904Z",
     "shell.execute_reply": "2023-10-14T05:50:59.913922Z"
    },
    "papermill": {
     "duration": 0.019337,
     "end_time": "2023-10-14T05:50:59.916770",
     "exception": false,
     "start_time": "2023-10-14T05:50:59.897433",
     "status": "completed"
    },
    "tags": []
   },
   "outputs": [
    {
     "data": {
      "application/javascript": [
       "parent.postMessage({\"jupyterEvent\": \"custom.exercise_interaction\", \"data\": {\"interactionType\": 2, \"questionType\": 2, \"questionId\": \"4_JoinLifting\", \"learnToolsVersion\": \"0.3.4\", \"valueTowardsCompletion\": 0.0, \"failureMessage\": \"\", \"exceptionClass\": \"\", \"trace\": \"\", \"outcomeType\": 4}}, \"*\")"
      ],
      "text/plain": [
       "<IPython.core.display.Javascript object>"
      ]
     },
     "metadata": {},
     "output_type": "display_data"
    },
    {
     "data": {
      "text/markdown": [
       "<span style=\"color:#3366cc\">Hint:</span> Use `pd.Dataframe.join()`."
      ],
      "text/plain": [
       "Hint: Use `pd.Dataframe.join()`."
      ]
     },
     "metadata": {},
     "output_type": "display_data"
    },
    {
     "data": {
      "application/javascript": [
       "parent.postMessage({\"jupyterEvent\": \"custom.exercise_interaction\", \"data\": {\"interactionType\": 3, \"questionType\": 2, \"questionId\": \"4_JoinLifting\", \"learnToolsVersion\": \"0.3.4\", \"valueTowardsCompletion\": 0.0, \"failureMessage\": \"\", \"exceptionClass\": \"\", \"trace\": \"\", \"outcomeType\": 4}}, \"*\")"
      ],
      "text/plain": [
       "<IPython.core.display.Javascript object>"
      ]
     },
     "metadata": {},
     "output_type": "display_data"
    },
    {
     "data": {
      "text/markdown": [
       "<span style=\"color:#33cc99\">Solution:</span> \n",
       "```python\n",
       "powerlifting_combined = powerlifting_meets.set_index(\"MeetID\").join(powerlifting_competitors.set_index(\"MeetID\"))\n",
       "```"
      ],
      "text/plain": [
       "Solution: \n",
       "```python\n",
       "powerlifting_combined = powerlifting_meets.set_index(\"MeetID\").join(powerlifting_competitors.set_index(\"MeetID\"))\n",
       "```"
      ]
     },
     "metadata": {},
     "output_type": "display_data"
    }
   ],
   "source": [
    "q4.hint()\n",
    "q4.solution()"
   ]
  },
  {
   "cell_type": "markdown",
   "id": "6eccac7a",
   "metadata": {
    "papermill": {
     "duration": 0.006126,
     "end_time": "2023-10-14T05:50:59.929493",
     "exception": false,
     "start_time": "2023-10-14T05:50:59.923367",
     "status": "completed"
    },
    "tags": []
   },
   "source": [
    "# Congratulations!\n",
    "\n",
    "You've finished the Pandas micro-course.  Many data scientists feel efficiency with Pandas is the most useful and practical skill they have, because it allows you to progress quickly in any project you have.\n",
    "\n",
    "If you'd like to apply your new skills to examining geospatial data, you're encouraged to check out our **[Geospatial Analysis](https://www.kaggle.com/learn/geospatial-analysis)** micro-course.\n",
    "\n",
    "You can also take advantage of your Pandas skills by entering a **[Kaggle Competition](https://www.kaggle.com/competitions)** or by answering a question you find interesting using **[Kaggle Datasets](https://www.kaggle.com/datasets)**."
   ]
  },
  {
   "cell_type": "markdown",
   "id": "661d5384",
   "metadata": {
    "papermill": {
     "duration": 0.006069,
     "end_time": "2023-10-14T05:50:59.941886",
     "exception": false,
     "start_time": "2023-10-14T05:50:59.935817",
     "status": "completed"
    },
    "tags": []
   },
   "source": [
    "---\n",
    "\n",
    "\n",
    "\n",
    "\n",
    "*Have questions or comments? Visit the [course discussion forum](https://www.kaggle.com/learn/pandas/discussion) to chat with other learners.*"
   ]
  }
 ],
 "metadata": {
  "kernelspec": {
   "display_name": "Python 3",
   "language": "python",
   "name": "python3"
  },
  "language_info": {
   "codemirror_mode": {
    "name": "ipython",
    "version": 3
   },
   "file_extension": ".py",
   "mimetype": "text/x-python",
   "name": "python",
   "nbconvert_exporter": "python",
   "pygments_lexer": "ipython3",
   "version": "3.10.12"
  },
  "papermill": {
   "default_parameters": {},
   "duration": 10.082162,
   "end_time": "2023-10-14T05:51:00.568418",
   "environment_variables": {},
   "exception": null,
   "input_path": "__notebook__.ipynb",
   "output_path": "__notebook__.ipynb",
   "parameters": {},
   "start_time": "2023-10-14T05:50:50.486256",
   "version": "2.4.0"
  }
 },
 "nbformat": 4,
 "nbformat_minor": 5
}
