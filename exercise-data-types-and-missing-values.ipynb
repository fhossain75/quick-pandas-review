{
 "cells": [
  {
   "cell_type": "markdown",
   "id": "bfdcb04f",
   "metadata": {
    "papermill": {
     "duration": 0.003532,
     "end_time": "2023-10-14T04:45:17.227293",
     "exception": false,
     "start_time": "2023-10-14T04:45:17.223761",
     "status": "completed"
    },
    "tags": []
   },
   "source": [
    "**This notebook is an exercise in the [Pandas](https://www.kaggle.com/learn/pandas) course.  You can reference the tutorial at [this link](https://www.kaggle.com/residentmario/data-types-and-missing-values).**\n",
    "\n",
    "---\n"
   ]
  },
  {
   "cell_type": "markdown",
   "id": "87e7b164",
   "metadata": {
    "papermill": {
     "duration": 0.002757,
     "end_time": "2023-10-14T04:45:17.235063",
     "exception": false,
     "start_time": "2023-10-14T04:45:17.232306",
     "status": "completed"
    },
    "tags": []
   },
   "source": [
    "# Introduction\n",
    "\n",
    "Run the following cell to load your data and some utility functions."
   ]
  },
  {
   "cell_type": "code",
   "execution_count": 1,
   "id": "db3adcab",
   "metadata": {
    "execution": {
     "iopub.execute_input": "2023-10-14T04:45:17.243000Z",
     "iopub.status.busy": "2023-10-14T04:45:17.242393Z",
     "iopub.status.idle": "2023-10-14T04:45:20.601051Z",
     "shell.execute_reply": "2023-10-14T04:45:20.600361Z"
    },
    "papermill": {
     "duration": 3.365102,
     "end_time": "2023-10-14T04:45:20.603110",
     "exception": false,
     "start_time": "2023-10-14T04:45:17.238008",
     "status": "completed"
    },
    "tags": []
   },
   "outputs": [
    {
     "name": "stdout",
     "output_type": "stream",
     "text": [
      "Setup complete.\n"
     ]
    }
   ],
   "source": [
    "import pandas as pd\n",
    "\n",
    "reviews = pd.read_csv(\"../input/wine-reviews/winemag-data-130k-v2.csv\", index_col=0)\n",
    "\n",
    "from learntools.core import binder; binder.bind(globals())\n",
    "from learntools.pandas.data_types_and_missing_data import *\n",
    "print(\"Setup complete.\")"
   ]
  },
  {
   "cell_type": "markdown",
   "id": "7159f383",
   "metadata": {
    "papermill": {
     "duration": 0.002986,
     "end_time": "2023-10-14T04:45:20.609669",
     "exception": false,
     "start_time": "2023-10-14T04:45:20.606683",
     "status": "completed"
    },
    "tags": []
   },
   "source": [
    "# Exercises"
   ]
  },
  {
   "cell_type": "markdown",
   "id": "7d5d1e87",
   "metadata": {
    "papermill": {
     "duration": 0.002928,
     "end_time": "2023-10-14T04:45:20.615759",
     "exception": false,
     "start_time": "2023-10-14T04:45:20.612831",
     "status": "completed"
    },
    "tags": []
   },
   "source": [
    "## 1. \n",
    "What is the data type of the `points` column in the dataset?"
   ]
  },
  {
   "cell_type": "code",
   "execution_count": 2,
   "id": "b63e2a7b",
   "metadata": {
    "execution": {
     "iopub.execute_input": "2023-10-14T04:45:20.624160Z",
     "iopub.status.busy": "2023-10-14T04:45:20.623604Z",
     "iopub.status.idle": "2023-10-14T04:45:20.631820Z",
     "shell.execute_reply": "2023-10-14T04:45:20.630752Z"
    },
    "papermill": {
     "duration": 0.014947,
     "end_time": "2023-10-14T04:45:20.633844",
     "exception": false,
     "start_time": "2023-10-14T04:45:20.618897",
     "status": "completed"
    },
    "tags": []
   },
   "outputs": [
    {
     "data": {
      "application/javascript": [
       "parent.postMessage({\"jupyterEvent\": \"custom.exercise_interaction\", \"data\": {\"outcomeType\": 4, \"interactionType\": 1, \"questionType\": 1, \"questionId\": \"1_PointsDtype\", \"learnToolsVersion\": \"0.3.4\", \"valueTowardsCompletion\": 0.0, \"failureMessage\": \"\", \"exceptionClass\": \"\", \"trace\": \"\"}}, \"*\")"
      ],
      "text/plain": [
       "<IPython.core.display.Javascript object>"
      ]
     },
     "metadata": {},
     "output_type": "display_data"
    },
    {
     "data": {
      "text/markdown": [
       "<span style=\"color:#ccaa33\">Check:</span> When you've updated the starter code, `check()` will tell you whether your code is correct. You need to update the code that creates variable `dtype`"
      ],
      "text/plain": [
       "Check: When you've updated the starter code, `check()` will tell you whether your code is correct. You need to update the code that creates variable `dtype`"
      ]
     },
     "metadata": {},
     "output_type": "display_data"
    }
   ],
   "source": [
    "# Your code here\n",
    "dtype = ____\n",
    "\n",
    "# Check your answer\n",
    "q1.check()"
   ]
  },
  {
   "cell_type": "code",
   "execution_count": 3,
   "id": "411cdaf3",
   "metadata": {
    "execution": {
     "iopub.execute_input": "2023-10-14T04:45:20.642552Z",
     "iopub.status.busy": "2023-10-14T04:45:20.642203Z",
     "iopub.status.idle": "2023-10-14T04:45:20.646016Z",
     "shell.execute_reply": "2023-10-14T04:45:20.645061Z"
    },
    "papermill": {
     "duration": 0.010394,
     "end_time": "2023-10-14T04:45:20.647886",
     "exception": false,
     "start_time": "2023-10-14T04:45:20.637492",
     "status": "completed"
    },
    "tags": []
   },
   "outputs": [],
   "source": [
    "#q1.hint()\n",
    "#q1.solution()"
   ]
  },
  {
   "cell_type": "markdown",
   "id": "1dc50949",
   "metadata": {
    "papermill": {
     "duration": 0.003422,
     "end_time": "2023-10-14T04:45:20.655106",
     "exception": false,
     "start_time": "2023-10-14T04:45:20.651684",
     "status": "completed"
    },
    "tags": []
   },
   "source": [
    "## 2. \n",
    "Create a Series from entries in the `points` column, but convert the entries to strings. Hint: strings are `str` in native Python."
   ]
  },
  {
   "cell_type": "code",
   "execution_count": 4,
   "id": "e00e6e36",
   "metadata": {
    "execution": {
     "iopub.execute_input": "2023-10-14T04:45:20.663884Z",
     "iopub.status.busy": "2023-10-14T04:45:20.663551Z",
     "iopub.status.idle": "2023-10-14T04:45:20.671167Z",
     "shell.execute_reply": "2023-10-14T04:45:20.670200Z"
    },
    "papermill": {
     "duration": 0.014526,
     "end_time": "2023-10-14T04:45:20.673158",
     "exception": false,
     "start_time": "2023-10-14T04:45:20.658632",
     "status": "completed"
    },
    "tags": []
   },
   "outputs": [
    {
     "data": {
      "application/javascript": [
       "parent.postMessage({\"jupyterEvent\": \"custom.exercise_interaction\", \"data\": {\"outcomeType\": 4, \"interactionType\": 1, \"questionType\": 1, \"questionId\": \"2_StrPoints\", \"learnToolsVersion\": \"0.3.4\", \"valueTowardsCompletion\": 0.0, \"failureMessage\": \"\", \"exceptionClass\": \"\", \"trace\": \"\"}}, \"*\")"
      ],
      "text/plain": [
       "<IPython.core.display.Javascript object>"
      ]
     },
     "metadata": {},
     "output_type": "display_data"
    },
    {
     "data": {
      "text/markdown": [
       "<span style=\"color:#ccaa33\">Check:</span> When you've updated the starter code, `check()` will tell you whether your code is correct. You need to update the code that creates variable `point_strings`"
      ],
      "text/plain": [
       "Check: When you've updated the starter code, `check()` will tell you whether your code is correct. You need to update the code that creates variable `point_strings`"
      ]
     },
     "metadata": {},
     "output_type": "display_data"
    }
   ],
   "source": [
    "point_strings = ____\n",
    "\n",
    "# Check your answer\n",
    "q2.check()"
   ]
  },
  {
   "cell_type": "code",
   "execution_count": 5,
   "id": "e31e2508",
   "metadata": {
    "execution": {
     "iopub.execute_input": "2023-10-14T04:45:20.682558Z",
     "iopub.status.busy": "2023-10-14T04:45:20.682216Z",
     "iopub.status.idle": "2023-10-14T04:45:20.686176Z",
     "shell.execute_reply": "2023-10-14T04:45:20.685302Z"
    },
    "papermill": {
     "duration": 0.011232,
     "end_time": "2023-10-14T04:45:20.688246",
     "exception": false,
     "start_time": "2023-10-14T04:45:20.677014",
     "status": "completed"
    },
    "tags": []
   },
   "outputs": [],
   "source": [
    "#q2.hint()\n",
    "#q2.solution()"
   ]
  },
  {
   "cell_type": "markdown",
   "id": "0cd1f318",
   "metadata": {
    "papermill": {
     "duration": 0.00359,
     "end_time": "2023-10-14T04:45:20.695833",
     "exception": false,
     "start_time": "2023-10-14T04:45:20.692243",
     "status": "completed"
    },
    "tags": []
   },
   "source": [
    "## 3.\n",
    "Sometimes the price column is null. How many reviews in the dataset are missing a price?"
   ]
  },
  {
   "cell_type": "code",
   "execution_count": 6,
   "id": "658ef01e",
   "metadata": {
    "execution": {
     "iopub.execute_input": "2023-10-14T04:45:20.705534Z",
     "iopub.status.busy": "2023-10-14T04:45:20.705142Z",
     "iopub.status.idle": "2023-10-14T04:45:20.712237Z",
     "shell.execute_reply": "2023-10-14T04:45:20.711539Z"
    },
    "papermill": {
     "duration": 0.014573,
     "end_time": "2023-10-14T04:45:20.714280",
     "exception": false,
     "start_time": "2023-10-14T04:45:20.699707",
     "status": "completed"
    },
    "tags": []
   },
   "outputs": [
    {
     "data": {
      "application/javascript": [
       "parent.postMessage({\"jupyterEvent\": \"custom.exercise_interaction\", \"data\": {\"outcomeType\": 4, \"interactionType\": 1, \"questionType\": 1, \"questionId\": \"3_CountMissingPrices\", \"learnToolsVersion\": \"0.3.4\", \"valueTowardsCompletion\": 0.0, \"failureMessage\": \"\", \"exceptionClass\": \"\", \"trace\": \"\"}}, \"*\")"
      ],
      "text/plain": [
       "<IPython.core.display.Javascript object>"
      ]
     },
     "metadata": {},
     "output_type": "display_data"
    },
    {
     "data": {
      "text/markdown": [
       "<span style=\"color:#ccaa33\">Check:</span> When you've updated the starter code, `check()` will tell you whether your code is correct. You need to update the code that creates variable `n_missing_prices`"
      ],
      "text/plain": [
       "Check: When you've updated the starter code, `check()` will tell you whether your code is correct. You need to update the code that creates variable `n_missing_prices`"
      ]
     },
     "metadata": {},
     "output_type": "display_data"
    }
   ],
   "source": [
    "n_missing_prices = ____\n",
    "\n",
    "# Check your answer\n",
    "q3.check()"
   ]
  },
  {
   "cell_type": "code",
   "execution_count": 7,
   "id": "cf740ebd",
   "metadata": {
    "execution": {
     "iopub.execute_input": "2023-10-14T04:45:20.724028Z",
     "iopub.status.busy": "2023-10-14T04:45:20.723679Z",
     "iopub.status.idle": "2023-10-14T04:45:20.727064Z",
     "shell.execute_reply": "2023-10-14T04:45:20.726391Z"
    },
    "papermill": {
     "duration": 0.010464,
     "end_time": "2023-10-14T04:45:20.728906",
     "exception": false,
     "start_time": "2023-10-14T04:45:20.718442",
     "status": "completed"
    },
    "tags": []
   },
   "outputs": [],
   "source": [
    "#q3.hint()\n",
    "#q3.solution()"
   ]
  },
  {
   "cell_type": "markdown",
   "id": "f29d5121",
   "metadata": {
    "papermill": {
     "duration": 0.003991,
     "end_time": "2023-10-14T04:45:20.737051",
     "exception": false,
     "start_time": "2023-10-14T04:45:20.733060",
     "status": "completed"
    },
    "tags": []
   },
   "source": [
    "## 4.\n",
    "What are the most common wine-producing regions? Create a Series counting the number of times each value occurs in the `region_1` field. This field is often missing data, so replace missing values with `Unknown`. Sort in descending order.  Your output should look something like this:\n",
    "\n",
    "```\n",
    "Unknown                    21247\n",
    "Napa Valley                 4480\n",
    "                           ...  \n",
    "Bardolino Superiore            1\n",
    "Primitivo del Tarantino        1\n",
    "Name: region_1, Length: 1230, dtype: int64\n",
    "```"
   ]
  },
  {
   "cell_type": "code",
   "execution_count": 8,
   "id": "b00b5b97",
   "metadata": {
    "execution": {
     "iopub.execute_input": "2023-10-14T04:45:20.746871Z",
     "iopub.status.busy": "2023-10-14T04:45:20.746466Z",
     "iopub.status.idle": "2023-10-14T04:45:20.754799Z",
     "shell.execute_reply": "2023-10-14T04:45:20.753690Z"
    },
    "papermill": {
     "duration": 0.015627,
     "end_time": "2023-10-14T04:45:20.756712",
     "exception": false,
     "start_time": "2023-10-14T04:45:20.741085",
     "status": "completed"
    },
    "tags": []
   },
   "outputs": [
    {
     "data": {
      "application/javascript": [
       "parent.postMessage({\"jupyterEvent\": \"custom.exercise_interaction\", \"data\": {\"outcomeType\": 4, \"interactionType\": 1, \"questionType\": 2, \"questionId\": \"4_ReviewsPerRegion\", \"learnToolsVersion\": \"0.3.4\", \"valueTowardsCompletion\": 0.0, \"failureMessage\": \"\", \"exceptionClass\": \"\", \"trace\": \"\"}}, \"*\")"
      ],
      "text/plain": [
       "<IPython.core.display.Javascript object>"
      ]
     },
     "metadata": {},
     "output_type": "display_data"
    },
    {
     "data": {
      "text/markdown": [
       "<span style=\"color:#ccaa33\">Check:</span> When you've updated the starter code, `check()` will tell you whether your code is correct. You need to update the code that creates variable `reviews_per_region`"
      ],
      "text/plain": [
       "Check: When you've updated the starter code, `check()` will tell you whether your code is correct. You need to update the code that creates variable `reviews_per_region`"
      ]
     },
     "metadata": {},
     "output_type": "display_data"
    }
   ],
   "source": [
    "reviews_per_region = ____\n",
    "\n",
    "# Check your answer\n",
    "q4.check()"
   ]
  },
  {
   "cell_type": "code",
   "execution_count": 9,
   "id": "5944f7be",
   "metadata": {
    "execution": {
     "iopub.execute_input": "2023-10-14T04:45:20.767150Z",
     "iopub.status.busy": "2023-10-14T04:45:20.766762Z",
     "iopub.status.idle": "2023-10-14T04:45:20.771557Z",
     "shell.execute_reply": "2023-10-14T04:45:20.770249Z"
    },
    "papermill": {
     "duration": 0.01229,
     "end_time": "2023-10-14T04:45:20.773440",
     "exception": false,
     "start_time": "2023-10-14T04:45:20.761150",
     "status": "completed"
    },
    "tags": []
   },
   "outputs": [],
   "source": [
    "#q4.hint()\n",
    "#q4.solution()"
   ]
  },
  {
   "cell_type": "markdown",
   "id": "7a8c19dc",
   "metadata": {
    "papermill": {
     "duration": 0.00418,
     "end_time": "2023-10-14T04:45:20.782221",
     "exception": false,
     "start_time": "2023-10-14T04:45:20.778041",
     "status": "completed"
    },
    "tags": []
   },
   "source": [
    "# Keep going\n",
    "\n",
    "Move on to **[renaming and combining](https://www.kaggle.com/residentmario/renaming-and-combining)**."
   ]
  },
  {
   "cell_type": "markdown",
   "id": "81675f32",
   "metadata": {
    "papermill": {
     "duration": 0.004125,
     "end_time": "2023-10-14T04:45:20.790705",
     "exception": false,
     "start_time": "2023-10-14T04:45:20.786580",
     "status": "completed"
    },
    "tags": []
   },
   "source": [
    "---\n",
    "\n",
    "\n",
    "\n",
    "\n",
    "*Have questions or comments? Visit the [course discussion forum](https://www.kaggle.com/learn/pandas/discussion) to chat with other learners.*"
   ]
  }
 ],
 "metadata": {
  "kernelspec": {
   "display_name": "Python 3",
   "language": "python",
   "name": "python3"
  },
  "language_info": {
   "codemirror_mode": {
    "name": "ipython",
    "version": 3
   },
   "file_extension": ".py",
   "mimetype": "text/x-python",
   "name": "python",
   "nbconvert_exporter": "python",
   "pygments_lexer": "ipython3",
   "version": "3.10.12"
  },
  "papermill": {
   "default_parameters": {},
   "duration": 7.191959,
   "end_time": "2023-10-14T04:45:21.315735",
   "environment_variables": {},
   "exception": null,
   "input_path": "__notebook__.ipynb",
   "output_path": "__notebook__.ipynb",
   "parameters": {},
   "start_time": "2023-10-14T04:45:14.123776",
   "version": "2.4.0"
  }
 },
 "nbformat": 4,
 "nbformat_minor": 5
}
