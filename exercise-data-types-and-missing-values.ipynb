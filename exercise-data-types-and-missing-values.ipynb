{
 "cells": [
  {
   "cell_type": "markdown",
   "id": "534b810e",
   "metadata": {
    "papermill": {
     "duration": 0.003745,
     "end_time": "2023-10-14T05:34:44.456188",
     "exception": false,
     "start_time": "2023-10-14T05:34:44.452443",
     "status": "completed"
    },
    "tags": []
   },
   "source": [
    "**This notebook is an exercise in the [Pandas](https://www.kaggle.com/learn/pandas) course.  You can reference the tutorial at [this link](https://www.kaggle.com/residentmario/data-types-and-missing-values).**\n",
    "\n",
    "---\n"
   ]
  },
  {
   "cell_type": "markdown",
   "id": "260818a5",
   "metadata": {
    "papermill": {
     "duration": 0.00306,
     "end_time": "2023-10-14T05:34:44.464356",
     "exception": false,
     "start_time": "2023-10-14T05:34:44.461296",
     "status": "completed"
    },
    "tags": []
   },
   "source": [
    "# Introduction\n",
    "\n",
    "Run the following cell to load your data and some utility functions."
   ]
  },
  {
   "cell_type": "code",
   "execution_count": 1,
   "id": "0604a36c",
   "metadata": {
    "execution": {
     "iopub.execute_input": "2023-10-14T05:34:44.471959Z",
     "iopub.status.busy": "2023-10-14T05:34:44.471494Z",
     "iopub.status.idle": "2023-10-14T05:34:47.786245Z",
     "shell.execute_reply": "2023-10-14T05:34:47.785134Z"
    },
    "papermill": {
     "duration": 3.321009,
     "end_time": "2023-10-14T05:34:47.788420",
     "exception": false,
     "start_time": "2023-10-14T05:34:44.467411",
     "status": "completed"
    },
    "tags": []
   },
   "outputs": [
    {
     "name": "stdout",
     "output_type": "stream",
     "text": [
      "Setup complete.\n"
     ]
    }
   ],
   "source": [
    "import pandas as pd\n",
    "\n",
    "reviews = pd.read_csv(\"../input/wine-reviews/winemag-data-130k-v2.csv\", index_col=0)\n",
    "\n",
    "from learntools.core import binder; binder.bind(globals())\n",
    "from learntools.pandas.data_types_and_missing_data import *\n",
    "print(\"Setup complete.\")"
   ]
  },
  {
   "cell_type": "markdown",
   "id": "d694bbab",
   "metadata": {
    "papermill": {
     "duration": 0.003028,
     "end_time": "2023-10-14T05:34:47.794977",
     "exception": false,
     "start_time": "2023-10-14T05:34:47.791949",
     "status": "completed"
    },
    "tags": []
   },
   "source": [
    "# Exercises"
   ]
  },
  {
   "cell_type": "markdown",
   "id": "bc8ce1bd",
   "metadata": {
    "papermill": {
     "duration": 0.003028,
     "end_time": "2023-10-14T05:34:47.801113",
     "exception": false,
     "start_time": "2023-10-14T05:34:47.798085",
     "status": "completed"
    },
    "tags": []
   },
   "source": [
    "## 1. \n",
    "What is the data type of the `points` column in the dataset?"
   ]
  },
  {
   "cell_type": "code",
   "execution_count": 2,
   "id": "344cd363",
   "metadata": {
    "execution": {
     "iopub.execute_input": "2023-10-14T05:34:47.808909Z",
     "iopub.status.busy": "2023-10-14T05:34:47.808593Z",
     "iopub.status.idle": "2023-10-14T05:34:47.817428Z",
     "shell.execute_reply": "2023-10-14T05:34:47.816487Z"
    },
    "papermill": {
     "duration": 0.015057,
     "end_time": "2023-10-14T05:34:47.819331",
     "exception": false,
     "start_time": "2023-10-14T05:34:47.804274",
     "status": "completed"
    },
    "tags": []
   },
   "outputs": [
    {
     "data": {
      "application/javascript": [
       "parent.postMessage({\"jupyterEvent\": \"custom.exercise_interaction\", \"data\": {\"outcomeType\": 1, \"valueTowardsCompletion\": 0.25, \"interactionType\": 1, \"questionType\": 1, \"questionId\": \"1_PointsDtype\", \"learnToolsVersion\": \"0.3.4\", \"failureMessage\": \"\", \"exceptionClass\": \"\", \"trace\": \"\"}}, \"*\")"
      ],
      "text/plain": [
       "<IPython.core.display.Javascript object>"
      ]
     },
     "metadata": {},
     "output_type": "display_data"
    },
    {
     "data": {
      "text/markdown": [
       "<span style=\"color:#33cc33\">Correct</span>"
      ],
      "text/plain": [
       "Correct"
      ]
     },
     "metadata": {},
     "output_type": "display_data"
    }
   ],
   "source": [
    "# Your code here\n",
    "dtype = reviews.points.dtype\n",
    "\n",
    "# Check your answer\n",
    "q1.check()"
   ]
  },
  {
   "cell_type": "code",
   "execution_count": 3,
   "id": "c0b75dcf",
   "metadata": {
    "execution": {
     "iopub.execute_input": "2023-10-14T05:34:47.828074Z",
     "iopub.status.busy": "2023-10-14T05:34:47.827749Z",
     "iopub.status.idle": "2023-10-14T05:34:47.831656Z",
     "shell.execute_reply": "2023-10-14T05:34:47.830848Z"
    },
    "papermill": {
     "duration": 0.010336,
     "end_time": "2023-10-14T05:34:47.833395",
     "exception": false,
     "start_time": "2023-10-14T05:34:47.823059",
     "status": "completed"
    },
    "tags": []
   },
   "outputs": [],
   "source": [
    "#q1.hint()\n",
    "#q1.solution()"
   ]
  },
  {
   "cell_type": "markdown",
   "id": "2513ced2",
   "metadata": {
    "papermill": {
     "duration": 0.003378,
     "end_time": "2023-10-14T05:34:47.840539",
     "exception": false,
     "start_time": "2023-10-14T05:34:47.837161",
     "status": "completed"
    },
    "tags": []
   },
   "source": [
    "## 2. \n",
    "Create a Series from entries in the `points` column, but convert the entries to strings. Hint: strings are `str` in native Python."
   ]
  },
  {
   "cell_type": "code",
   "execution_count": 4,
   "id": "9931febc",
   "metadata": {
    "execution": {
     "iopub.execute_input": "2023-10-14T05:34:47.849247Z",
     "iopub.status.busy": "2023-10-14T05:34:47.848913Z",
     "iopub.status.idle": "2023-10-14T05:34:47.911518Z",
     "shell.execute_reply": "2023-10-14T05:34:47.910726Z"
    },
    "papermill": {
     "duration": 0.069365,
     "end_time": "2023-10-14T05:34:47.913366",
     "exception": false,
     "start_time": "2023-10-14T05:34:47.844001",
     "status": "completed"
    },
    "tags": []
   },
   "outputs": [
    {
     "name": "stdout",
     "output_type": "stream",
     "text": [
      "0         87\n",
      "1         87\n",
      "2         87\n",
      "3         87\n",
      "4         87\n",
      "          ..\n",
      "129966    90\n",
      "129967    90\n",
      "129968    90\n",
      "129969    90\n",
      "129970    90\n",
      "Name: points, Length: 129971, dtype: object\n"
     ]
    },
    {
     "data": {
      "application/javascript": [
       "parent.postMessage({\"jupyterEvent\": \"custom.exercise_interaction\", \"data\": {\"outcomeType\": 1, \"valueTowardsCompletion\": 0.25, \"interactionType\": 1, \"questionType\": 1, \"questionId\": \"2_StrPoints\", \"learnToolsVersion\": \"0.3.4\", \"failureMessage\": \"\", \"exceptionClass\": \"\", \"trace\": \"\"}}, \"*\")"
      ],
      "text/plain": [
       "<IPython.core.display.Javascript object>"
      ]
     },
     "metadata": {},
     "output_type": "display_data"
    },
    {
     "data": {
      "text/markdown": [
       "<span style=\"color:#33cc33\">Correct</span>"
      ],
      "text/plain": [
       "Correct"
      ]
     },
     "metadata": {},
     "output_type": "display_data"
    }
   ],
   "source": [
    "point_strings = reviews.points.astype(str)\n",
    "print(point_strings)\n",
    "# Check your answer\n",
    "q2.check()"
   ]
  },
  {
   "cell_type": "code",
   "execution_count": 5,
   "id": "5f62553f",
   "metadata": {
    "execution": {
     "iopub.execute_input": "2023-10-14T05:34:47.923020Z",
     "iopub.status.busy": "2023-10-14T05:34:47.922081Z",
     "iopub.status.idle": "2023-10-14T05:34:47.926209Z",
     "shell.execute_reply": "2023-10-14T05:34:47.925520Z"
    },
    "papermill": {
     "duration": 0.010685,
     "end_time": "2023-10-14T05:34:47.927995",
     "exception": false,
     "start_time": "2023-10-14T05:34:47.917310",
     "status": "completed"
    },
    "tags": []
   },
   "outputs": [],
   "source": [
    "#q2.hint()\n",
    "#q2.solution()"
   ]
  },
  {
   "cell_type": "markdown",
   "id": "97dfd3ad",
   "metadata": {
    "papermill": {
     "duration": 0.003526,
     "end_time": "2023-10-14T05:34:47.935292",
     "exception": false,
     "start_time": "2023-10-14T05:34:47.931766",
     "status": "completed"
    },
    "tags": []
   },
   "source": [
    "## 3.\n",
    "Sometimes the price column is null. How many reviews in the dataset are missing a price?"
   ]
  },
  {
   "cell_type": "code",
   "execution_count": 6,
   "id": "4c2e4490",
   "metadata": {
    "execution": {
     "iopub.execute_input": "2023-10-14T05:34:47.944141Z",
     "iopub.status.busy": "2023-10-14T05:34:47.943800Z",
     "iopub.status.idle": "2023-10-14T05:34:47.953821Z",
     "shell.execute_reply": "2023-10-14T05:34:47.952890Z"
    },
    "papermill": {
     "duration": 0.016495,
     "end_time": "2023-10-14T05:34:47.955521",
     "exception": false,
     "start_time": "2023-10-14T05:34:47.939026",
     "status": "completed"
    },
    "tags": []
   },
   "outputs": [
    {
     "name": "stdout",
     "output_type": "stream",
     "text": [
      "0          True\n",
      "1         False\n",
      "2         False\n",
      "3         False\n",
      "4         False\n",
      "          ...  \n",
      "129966    False\n",
      "129967    False\n",
      "129968    False\n",
      "129969    False\n",
      "129970    False\n",
      "Name: price, Length: 129971, dtype: bool\n"
     ]
    },
    {
     "data": {
      "application/javascript": [
       "parent.postMessage({\"jupyterEvent\": \"custom.exercise_interaction\", \"data\": {\"outcomeType\": 1, \"valueTowardsCompletion\": 0.25, \"interactionType\": 1, \"questionType\": 1, \"questionId\": \"3_CountMissingPrices\", \"learnToolsVersion\": \"0.3.4\", \"failureMessage\": \"\", \"exceptionClass\": \"\", \"trace\": \"\"}}, \"*\")"
      ],
      "text/plain": [
       "<IPython.core.display.Javascript object>"
      ]
     },
     "metadata": {},
     "output_type": "display_data"
    },
    {
     "data": {
      "text/markdown": [
       "<span style=\"color:#33cc33\">Correct</span>"
      ],
      "text/plain": [
       "Correct"
      ]
     },
     "metadata": {},
     "output_type": "display_data"
    }
   ],
   "source": [
    "print(reviews.price.isnull())\n",
    "n_missing_prices = reviews.price.isnull().sum()\n",
    "\n",
    "# Check your answer\n",
    "q3.check()"
   ]
  },
  {
   "cell_type": "code",
   "execution_count": 7,
   "id": "39f3e6ec",
   "metadata": {
    "execution": {
     "iopub.execute_input": "2023-10-14T05:34:47.964817Z",
     "iopub.status.busy": "2023-10-14T05:34:47.964446Z",
     "iopub.status.idle": "2023-10-14T05:34:47.968378Z",
     "shell.execute_reply": "2023-10-14T05:34:47.967565Z"
    },
    "papermill": {
     "duration": 0.010532,
     "end_time": "2023-10-14T05:34:47.970176",
     "exception": false,
     "start_time": "2023-10-14T05:34:47.959644",
     "status": "completed"
    },
    "tags": []
   },
   "outputs": [],
   "source": [
    "#q3.hint()\n",
    "#q3.solution()"
   ]
  },
  {
   "cell_type": "markdown",
   "id": "87f1211b",
   "metadata": {
    "papermill": {
     "duration": 0.003879,
     "end_time": "2023-10-14T05:34:47.978258",
     "exception": false,
     "start_time": "2023-10-14T05:34:47.974379",
     "status": "completed"
    },
    "tags": []
   },
   "source": [
    "## 4.\n",
    "What are the most common wine-producing regions? Create a Series counting the number of times each value occurs in the `region_1` field. This field is often missing data, so replace missing values with `Unknown`. Sort in descending order.  Your output should look something like this:\n",
    "\n",
    "```\n",
    "Unknown                    21247\n",
    "Napa Valley                 4480\n",
    "                           ...  \n",
    "Bardolino Superiore            1\n",
    "Primitivo del Tarantino        1\n",
    "Name: region_1, Length: 1230, dtype: int64\n",
    "```"
   ]
  },
  {
   "cell_type": "code",
   "execution_count": 8,
   "id": "cdf89760",
   "metadata": {
    "execution": {
     "iopub.execute_input": "2023-10-14T05:34:47.988281Z",
     "iopub.status.busy": "2023-10-14T05:34:47.987383Z",
     "iopub.status.idle": "2023-10-14T05:34:48.031466Z",
     "shell.execute_reply": "2023-10-14T05:34:48.030572Z"
    },
    "papermill": {
     "duration": 0.051268,
     "end_time": "2023-10-14T05:34:48.033582",
     "exception": false,
     "start_time": "2023-10-14T05:34:47.982314",
     "status": "completed"
    },
    "tags": []
   },
   "outputs": [
    {
     "data": {
      "application/javascript": [
       "parent.postMessage({\"jupyterEvent\": \"custom.exercise_interaction\", \"data\": {\"outcomeType\": 1, \"valueTowardsCompletion\": 0.25, \"interactionType\": 1, \"questionType\": 2, \"questionId\": \"4_ReviewsPerRegion\", \"learnToolsVersion\": \"0.3.4\", \"failureMessage\": \"\", \"exceptionClass\": \"\", \"trace\": \"\"}}, \"*\")"
      ],
      "text/plain": [
       "<IPython.core.display.Javascript object>"
      ]
     },
     "metadata": {},
     "output_type": "display_data"
    },
    {
     "data": {
      "text/markdown": [
       "<span style=\"color:#33cc33\">Correct</span>"
      ],
      "text/plain": [
       "Correct"
      ]
     },
     "metadata": {},
     "output_type": "display_data"
    }
   ],
   "source": [
    "reviews_per_region = reviews.region_1.fillna(\"Unknown\").value_counts().sort_values(ascending=False)\n",
    "# Check your answer\n",
    "q4.check()"
   ]
  },
  {
   "cell_type": "code",
   "execution_count": 9,
   "id": "37d964e4",
   "metadata": {
    "execution": {
     "iopub.execute_input": "2023-10-14T05:34:48.044042Z",
     "iopub.status.busy": "2023-10-14T05:34:48.043222Z",
     "iopub.status.idle": "2023-10-14T05:34:48.054510Z",
     "shell.execute_reply": "2023-10-14T05:34:48.053364Z"
    },
    "papermill": {
     "duration": 0.018552,
     "end_time": "2023-10-14T05:34:48.056507",
     "exception": false,
     "start_time": "2023-10-14T05:34:48.037955",
     "status": "completed"
    },
    "tags": []
   },
   "outputs": [
    {
     "data": {
      "application/javascript": [
       "parent.postMessage({\"jupyterEvent\": \"custom.exercise_interaction\", \"data\": {\"interactionType\": 2, \"questionType\": 2, \"questionId\": \"4_ReviewsPerRegion\", \"learnToolsVersion\": \"0.3.4\", \"valueTowardsCompletion\": 0.0, \"failureMessage\": \"\", \"exceptionClass\": \"\", \"trace\": \"\", \"outcomeType\": 4}}, \"*\")"
      ],
      "text/plain": [
       "<IPython.core.display.Javascript object>"
      ]
     },
     "metadata": {},
     "output_type": "display_data"
    },
    {
     "data": {
      "text/markdown": [
       "<span style=\"color:#3366cc\">Hint:</span> Use `fillna()`, `value_counts()`, and `sort_values()`."
      ],
      "text/plain": [
       "Hint: Use `fillna()`, `value_counts()`, and `sort_values()`."
      ]
     },
     "metadata": {},
     "output_type": "display_data"
    },
    {
     "data": {
      "application/javascript": [
       "parent.postMessage({\"jupyterEvent\": \"custom.exercise_interaction\", \"data\": {\"interactionType\": 3, \"questionType\": 2, \"questionId\": \"4_ReviewsPerRegion\", \"learnToolsVersion\": \"0.3.4\", \"valueTowardsCompletion\": 0.0, \"failureMessage\": \"\", \"exceptionClass\": \"\", \"trace\": \"\", \"outcomeType\": 4}}, \"*\")"
      ],
      "text/plain": [
       "<IPython.core.display.Javascript object>"
      ]
     },
     "metadata": {},
     "output_type": "display_data"
    },
    {
     "data": {
      "text/markdown": [
       "<span style=\"color:#33cc99\">Solution:</span> \n",
       "```python\n",
       "reviews_per_region = reviews.region_1.fillna('Unknown').value_counts().sort_values(ascending=False)\n",
       "```"
      ],
      "text/plain": [
       "Solution: \n",
       "```python\n",
       "reviews_per_region = reviews.region_1.fillna('Unknown').value_counts().sort_values(ascending=False)\n",
       "```"
      ]
     },
     "metadata": {},
     "output_type": "display_data"
    }
   ],
   "source": [
    "q4.hint()\n",
    "q4.solution()"
   ]
  },
  {
   "cell_type": "markdown",
   "id": "135e2b2e",
   "metadata": {
    "papermill": {
     "duration": 0.004446,
     "end_time": "2023-10-14T05:34:48.065971",
     "exception": false,
     "start_time": "2023-10-14T05:34:48.061525",
     "status": "completed"
    },
    "tags": []
   },
   "source": [
    "# Keep going\n",
    "\n",
    "Move on to **[renaming and combining](https://www.kaggle.com/residentmario/renaming-and-combining)**."
   ]
  },
  {
   "cell_type": "markdown",
   "id": "b441d7d1",
   "metadata": {
    "papermill": {
     "duration": 0.004536,
     "end_time": "2023-10-14T05:34:48.075112",
     "exception": false,
     "start_time": "2023-10-14T05:34:48.070576",
     "status": "completed"
    },
    "tags": []
   },
   "source": [
    "---\n",
    "\n",
    "\n",
    "\n",
    "\n",
    "*Have questions or comments? Visit the [course discussion forum](https://www.kaggle.com/learn/pandas/discussion) to chat with other learners.*"
   ]
  }
 ],
 "metadata": {
  "kernelspec": {
   "display_name": "Python 3",
   "language": "python",
   "name": "python3"
  },
  "language_info": {
   "codemirror_mode": {
    "name": "ipython",
    "version": 3
   },
   "file_extension": ".py",
   "mimetype": "text/x-python",
   "name": "python",
   "nbconvert_exporter": "python",
   "pygments_lexer": "ipython3",
   "version": "3.10.12"
  },
  "papermill": {
   "default_parameters": {},
   "duration": 7.090015,
   "end_time": "2023-10-14T05:34:48.598784",
   "environment_variables": {},
   "exception": null,
   "input_path": "__notebook__.ipynb",
   "output_path": "__notebook__.ipynb",
   "parameters": {},
   "start_time": "2023-10-14T05:34:41.508769",
   "version": "2.4.0"
  }
 },
 "nbformat": 4,
 "nbformat_minor": 5
}
