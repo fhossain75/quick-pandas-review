{
 "cells": [
  {
   "cell_type": "markdown",
   "id": "6042404e",
   "metadata": {
    "papermill": {
     "duration": 0.004966,
     "end_time": "2023-10-14T17:56:00.500982",
     "exception": false,
     "start_time": "2023-10-14T17:56:00.496016",
     "status": "completed"
    },
    "tags": []
   },
   "source": [
    "**This notebook is an exercise in the [Data Cleaning](https://www.kaggle.com/learn/data-cleaning) course.  You can reference the tutorial at [this link](https://www.kaggle.com/alexisbcook/handling-missing-values).**\n",
    "\n",
    "---\n"
   ]
  },
  {
   "cell_type": "markdown",
   "id": "f6caf03a",
   "metadata": {
    "papermill": {
     "duration": 0.004052,
     "end_time": "2023-10-14T17:56:00.509465",
     "exception": false,
     "start_time": "2023-10-14T17:56:00.505413",
     "status": "completed"
    },
    "tags": []
   },
   "source": [
    "In this exercise, you'll apply what you learned in the **Handling missing values** tutorial.\n",
    "\n",
    "# Setup\n",
    "\n",
    "The questions below will give you feedback on your work. Run the following cell to set up the feedback system."
   ]
  },
  {
   "cell_type": "code",
   "execution_count": 1,
   "id": "f61b1b63",
   "metadata": {
    "execution": {
     "iopub.execute_input": "2023-10-14T17:56:00.519923Z",
     "iopub.status.busy": "2023-10-14T17:56:00.519443Z",
     "iopub.status.idle": "2023-10-14T17:56:04.787516Z",
     "shell.execute_reply": "2023-10-14T17:56:04.786342Z"
    },
    "papermill": {
     "duration": 4.275882,
     "end_time": "2023-10-14T17:56:04.789692",
     "exception": false,
     "start_time": "2023-10-14T17:56:00.513810",
     "status": "completed"
    },
    "tags": []
   },
   "outputs": [
    {
     "name": "stderr",
     "output_type": "stream",
     "text": [
      "/opt/conda/lib/python3.10/site-packages/learntools/data_cleaning/ex1.py:6: DtypeWarning: Columns (22,32) have mixed types. Specify dtype option on import or set low_memory=False.\n",
      "  sf_permits = pd.read_csv(\"../input/building-permit-applications-data/Building_Permits.csv\")\n"
     ]
    },
    {
     "name": "stdout",
     "output_type": "stream",
     "text": [
      "Setup Complete\n"
     ]
    }
   ],
   "source": [
    "from learntools.core import binder\n",
    "binder.bind(globals())\n",
    "from learntools.data_cleaning.ex1 import *\n",
    "print(\"Setup Complete\")"
   ]
  },
  {
   "cell_type": "markdown",
   "id": "0d900421",
   "metadata": {
    "papermill": {
     "duration": 0.004329,
     "end_time": "2023-10-14T17:56:04.798809",
     "exception": false,
     "start_time": "2023-10-14T17:56:04.794480",
     "status": "completed"
    },
    "tags": []
   },
   "source": [
    "# 1) Take a first look at the data\n",
    "\n",
    "Run the next code cell to load in the libraries and dataset you'll use to complete the exercise."
   ]
  },
  {
   "cell_type": "code",
   "execution_count": 2,
   "id": "48535b70",
   "metadata": {
    "execution": {
     "iopub.execute_input": "2023-10-14T17:56:04.810082Z",
     "iopub.status.busy": "2023-10-14T17:56:04.809659Z",
     "iopub.status.idle": "2023-10-14T17:56:06.661487Z",
     "shell.execute_reply": "2023-10-14T17:56:06.660382Z"
    },
    "papermill": {
     "duration": 1.860291,
     "end_time": "2023-10-14T17:56:06.663849",
     "exception": false,
     "start_time": "2023-10-14T17:56:04.803558",
     "status": "completed"
    },
    "tags": []
   },
   "outputs": [
    {
     "name": "stderr",
     "output_type": "stream",
     "text": [
      "/tmp/ipykernel_21/3534875831.py:6: DtypeWarning: Columns (22,32) have mixed types. Specify dtype option on import or set low_memory=False.\n",
      "  sf_permits = pd.read_csv(\"../input/building-permit-applications-data/Building_Permits.csv\")\n"
     ]
    }
   ],
   "source": [
    "# modules we'll use\n",
    "import pandas as pd\n",
    "import numpy as np\n",
    "\n",
    "# read in all our data\n",
    "sf_permits = pd.read_csv(\"../input/building-permit-applications-data/Building_Permits.csv\")\n",
    "\n",
    "# set seed for reproducibility\n",
    "np.random.seed(0) "
   ]
  },
  {
   "cell_type": "markdown",
   "id": "6e3113a5",
   "metadata": {
    "papermill": {
     "duration": 0.004435,
     "end_time": "2023-10-14T17:56:06.673134",
     "exception": false,
     "start_time": "2023-10-14T17:56:06.668699",
     "status": "completed"
    },
    "tags": []
   },
   "source": [
    "Use the code cell below to print the first five rows of the `sf_permits` DataFrame."
   ]
  },
  {
   "cell_type": "code",
   "execution_count": 3,
   "id": "f4603dbe",
   "metadata": {
    "execution": {
     "iopub.execute_input": "2023-10-14T17:56:06.684571Z",
     "iopub.status.busy": "2023-10-14T17:56:06.684241Z",
     "iopub.status.idle": "2023-10-14T17:56:06.688346Z",
     "shell.execute_reply": "2023-10-14T17:56:06.687342Z"
    },
    "papermill": {
     "duration": 0.012022,
     "end_time": "2023-10-14T17:56:06.690339",
     "exception": false,
     "start_time": "2023-10-14T17:56:06.678317",
     "status": "completed"
    },
    "tags": []
   },
   "outputs": [],
   "source": [
    "# TODO: Your code here!\n"
   ]
  },
  {
   "cell_type": "markdown",
   "id": "e65977a9",
   "metadata": {
    "papermill": {
     "duration": 0.004519,
     "end_time": "2023-10-14T17:56:06.699675",
     "exception": false,
     "start_time": "2023-10-14T17:56:06.695156",
     "status": "completed"
    },
    "tags": []
   },
   "source": [
    "Does the dataset have any missing values?  Once you have an answer, run the code cell below to get credit for your work."
   ]
  },
  {
   "cell_type": "code",
   "execution_count": 4,
   "id": "e554c7fe",
   "metadata": {
    "execution": {
     "iopub.execute_input": "2023-10-14T17:56:06.710509Z",
     "iopub.status.busy": "2023-10-14T17:56:06.710172Z",
     "iopub.status.idle": "2023-10-14T17:56:06.718794Z",
     "shell.execute_reply": "2023-10-14T17:56:06.717820Z"
    },
    "papermill": {
     "duration": 0.016404,
     "end_time": "2023-10-14T17:56:06.720783",
     "exception": false,
     "start_time": "2023-10-14T17:56:06.704379",
     "status": "completed"
    },
    "tags": []
   },
   "outputs": [
    {
     "data": {
      "application/javascript": [
       "parent.postMessage({\"jupyterEvent\": \"custom.exercise_interaction\", \"data\": {\"outcomeType\": 1, \"valueTowardsCompletion\": 0.16666666666666666, \"interactionType\": 1, \"questionType\": 4, \"questionId\": \"1_TakeFirstLook\", \"learnToolsVersion\": \"0.3.4\", \"failureMessage\": \"\", \"exceptionClass\": \"\", \"trace\": \"\"}}, \"*\")"
      ],
      "text/plain": [
       "<IPython.core.display.Javascript object>"
      ]
     },
     "metadata": {},
     "output_type": "display_data"
    },
    {
     "data": {
      "text/markdown": [
       "<span style=\"color:#33cc33\">Correct:</span> \n",
       "\n",
       "The first five rows of the data does show that several columns have missing values.  You can see this in the \"Street Number Suffix\", \"Proposed Construction Type\" and \"Site Permit\" columns, among others."
      ],
      "text/plain": [
       "Correct: \n",
       "\n",
       "The first five rows of the data does show that several columns have missing values.  You can see this in the \"Street Number Suffix\", \"Proposed Construction Type\" and \"Site Permit\" columns, among others."
      ]
     },
     "metadata": {},
     "output_type": "display_data"
    }
   ],
   "source": [
    "# Check your answer (Run this code cell to receive credit!)\n",
    "q1.check()"
   ]
  },
  {
   "cell_type": "code",
   "execution_count": 5,
   "id": "3eea060f",
   "metadata": {
    "execution": {
     "iopub.execute_input": "2023-10-14T17:56:06.732348Z",
     "iopub.status.busy": "2023-10-14T17:56:06.732020Z",
     "iopub.status.idle": "2023-10-14T17:56:06.736063Z",
     "shell.execute_reply": "2023-10-14T17:56:06.735106Z"
    },
    "papermill": {
     "duration": 0.01209,
     "end_time": "2023-10-14T17:56:06.738033",
     "exception": false,
     "start_time": "2023-10-14T17:56:06.725943",
     "status": "completed"
    },
    "tags": []
   },
   "outputs": [],
   "source": [
    "# Line below will give you a hint\n",
    "#q1.hint()"
   ]
  },
  {
   "cell_type": "markdown",
   "id": "4d55b344",
   "metadata": {
    "papermill": {
     "duration": 0.00489,
     "end_time": "2023-10-14T17:56:06.748264",
     "exception": false,
     "start_time": "2023-10-14T17:56:06.743374",
     "status": "completed"
    },
    "tags": []
   },
   "source": [
    "# 2) How many missing data points do we have?\n",
    "\n",
    "What percentage of the values in the dataset are missing?  Your answer should be a number between 0 and 100.  (If 1/4 of the values in the dataset are missing, the answer is 25.)"
   ]
  },
  {
   "cell_type": "code",
   "execution_count": 6,
   "id": "8faa35df",
   "metadata": {
    "execution": {
     "iopub.execute_input": "2023-10-14T17:56:06.759593Z",
     "iopub.status.busy": "2023-10-14T17:56:06.759263Z",
     "iopub.status.idle": "2023-10-14T17:56:06.767520Z",
     "shell.execute_reply": "2023-10-14T17:56:06.766639Z"
    },
    "papermill": {
     "duration": 0.016176,
     "end_time": "2023-10-14T17:56:06.769400",
     "exception": false,
     "start_time": "2023-10-14T17:56:06.753224",
     "status": "completed"
    },
    "tags": []
   },
   "outputs": [
    {
     "data": {
      "application/javascript": [
       "parent.postMessage({\"jupyterEvent\": \"custom.exercise_interaction\", \"data\": {\"outcomeType\": 4, \"interactionType\": 1, \"questionType\": 1, \"questionId\": \"2_PercentMissingValues\", \"learnToolsVersion\": \"0.3.4\", \"valueTowardsCompletion\": 0.0, \"failureMessage\": \"\", \"exceptionClass\": \"\", \"trace\": \"\"}}, \"*\")"
      ],
      "text/plain": [
       "<IPython.core.display.Javascript object>"
      ]
     },
     "metadata": {},
     "output_type": "display_data"
    },
    {
     "data": {
      "text/markdown": [
       "<span style=\"color:#ccaa33\">Check:</span> When you've updated the starter code, `check()` will tell you whether your code is correct. You need to update the code that creates variable `percent_missing`"
      ],
      "text/plain": [
       "Check: When you've updated the starter code, `check()` will tell you whether your code is correct. You need to update the code that creates variable `percent_missing`"
      ]
     },
     "metadata": {},
     "output_type": "display_data"
    }
   ],
   "source": [
    "# TODO: Your code here!\n",
    "percent_missing = ____\n",
    "\n",
    "# Check your answer\n",
    "q2.check()"
   ]
  },
  {
   "cell_type": "code",
   "execution_count": 7,
   "id": "4e5cf717",
   "metadata": {
    "execution": {
     "iopub.execute_input": "2023-10-14T17:56:06.781738Z",
     "iopub.status.busy": "2023-10-14T17:56:06.781357Z",
     "iopub.status.idle": "2023-10-14T17:56:06.785828Z",
     "shell.execute_reply": "2023-10-14T17:56:06.784727Z"
    },
    "papermill": {
     "duration": 0.013041,
     "end_time": "2023-10-14T17:56:06.787721",
     "exception": false,
     "start_time": "2023-10-14T17:56:06.774680",
     "status": "completed"
    },
    "tags": []
   },
   "outputs": [],
   "source": [
    "# Lines below will give you a hint or solution code\n",
    "#q2.hint()\n",
    "#q2.solution()"
   ]
  },
  {
   "cell_type": "markdown",
   "id": "8b6481db",
   "metadata": {
    "papermill": {
     "duration": 0.005185,
     "end_time": "2023-10-14T17:56:06.798488",
     "exception": false,
     "start_time": "2023-10-14T17:56:06.793303",
     "status": "completed"
    },
    "tags": []
   },
   "source": [
    "# 3) Figure out why the data is missing\n",
    "\n",
    "Look at the columns **\"Street Number Suffix\"** and **\"Zipcode\"** from the [San Francisco Building Permits dataset](https://www.kaggle.com/aparnashastry/building-permit-applications-data). Both of these contain missing values. \n",
    "- Which, if either, are missing because they don't exist? \n",
    "- Which, if either, are missing because they weren't recorded?  \n",
    "\n",
    "Once you have an answer, run the code cell below."
   ]
  },
  {
   "cell_type": "code",
   "execution_count": 8,
   "id": "67cf0f47",
   "metadata": {
    "execution": {
     "iopub.execute_input": "2023-10-14T17:56:06.810638Z",
     "iopub.status.busy": "2023-10-14T17:56:06.810301Z",
     "iopub.status.idle": "2023-10-14T17:56:06.818441Z",
     "shell.execute_reply": "2023-10-14T17:56:06.817480Z"
    },
    "papermill": {
     "duration": 0.01649,
     "end_time": "2023-10-14T17:56:06.820256",
     "exception": false,
     "start_time": "2023-10-14T17:56:06.803766",
     "status": "completed"
    },
    "tags": []
   },
   "outputs": [
    {
     "data": {
      "application/javascript": [
       "parent.postMessage({\"jupyterEvent\": \"custom.exercise_interaction\", \"data\": {\"outcomeType\": 1, \"valueTowardsCompletion\": 0.16666666666666666, \"interactionType\": 1, \"questionType\": 4, \"questionId\": \"3_WhyDataMissing\", \"learnToolsVersion\": \"0.3.4\", \"failureMessage\": \"\", \"exceptionClass\": \"\", \"trace\": \"\"}}, \"*\")"
      ],
      "text/plain": [
       "<IPython.core.display.Javascript object>"
      ]
     },
     "metadata": {},
     "output_type": "display_data"
    },
    {
     "data": {
      "text/markdown": [
       "<span style=\"color:#33cc33\">Correct:</span> \n",
       "\n",
       "If a value in the \"Street Number Suffix\" column is missing, it is likely because it does not exist. If a value in the \"Zipcode\" column is missing, it was not recorded."
      ],
      "text/plain": [
       "Correct: \n",
       "\n",
       "If a value in the \"Street Number Suffix\" column is missing, it is likely because it does not exist. If a value in the \"Zipcode\" column is missing, it was not recorded."
      ]
     },
     "metadata": {},
     "output_type": "display_data"
    }
   ],
   "source": [
    "# Check your answer (Run this code cell to receive credit!)\n",
    "q3.check()"
   ]
  },
  {
   "cell_type": "code",
   "execution_count": 9,
   "id": "0c03306c",
   "metadata": {
    "execution": {
     "iopub.execute_input": "2023-10-14T17:56:06.833146Z",
     "iopub.status.busy": "2023-10-14T17:56:06.832503Z",
     "iopub.status.idle": "2023-10-14T17:56:06.836852Z",
     "shell.execute_reply": "2023-10-14T17:56:06.835853Z"
    },
    "papermill": {
     "duration": 0.012836,
     "end_time": "2023-10-14T17:56:06.838641",
     "exception": false,
     "start_time": "2023-10-14T17:56:06.825805",
     "status": "completed"
    },
    "tags": []
   },
   "outputs": [],
   "source": [
    "# Line below will give you a hint\n",
    "#q3.hint()"
   ]
  },
  {
   "cell_type": "markdown",
   "id": "b27bb582",
   "metadata": {
    "papermill": {
     "duration": 0.005415,
     "end_time": "2023-10-14T17:56:06.849636",
     "exception": false,
     "start_time": "2023-10-14T17:56:06.844221",
     "status": "completed"
    },
    "tags": []
   },
   "source": [
    "# 4) Drop missing values: rows\n",
    "\n",
    "If you removed all of the rows of `sf_permits` with missing values, how many rows are left?\n",
    "\n",
    "**Note**: Do not change the value of `sf_permits` when checking this.  "
   ]
  },
  {
   "cell_type": "code",
   "execution_count": 10,
   "id": "d016f898",
   "metadata": {
    "execution": {
     "iopub.execute_input": "2023-10-14T17:56:06.862207Z",
     "iopub.status.busy": "2023-10-14T17:56:06.861843Z",
     "iopub.status.idle": "2023-10-14T17:56:06.866498Z",
     "shell.execute_reply": "2023-10-14T17:56:06.865546Z"
    },
    "papermill": {
     "duration": 0.013407,
     "end_time": "2023-10-14T17:56:06.868640",
     "exception": false,
     "start_time": "2023-10-14T17:56:06.855233",
     "status": "completed"
    },
    "tags": []
   },
   "outputs": [],
   "source": [
    "# TODO: Your code here!\n"
   ]
  },
  {
   "cell_type": "markdown",
   "id": "e885d751",
   "metadata": {
    "papermill": {
     "duration": 0.005665,
     "end_time": "2023-10-14T17:56:06.879961",
     "exception": false,
     "start_time": "2023-10-14T17:56:06.874296",
     "status": "completed"
    },
    "tags": []
   },
   "source": [
    "Once you have an answer, run the code cell below."
   ]
  },
  {
   "cell_type": "code",
   "execution_count": 11,
   "id": "b5e216e8",
   "metadata": {
    "execution": {
     "iopub.execute_input": "2023-10-14T17:56:06.892530Z",
     "iopub.status.busy": "2023-10-14T17:56:06.892191Z",
     "iopub.status.idle": "2023-10-14T17:56:06.900225Z",
     "shell.execute_reply": "2023-10-14T17:56:06.899189Z"
    },
    "papermill": {
     "duration": 0.01678,
     "end_time": "2023-10-14T17:56:06.902269",
     "exception": false,
     "start_time": "2023-10-14T17:56:06.885489",
     "status": "completed"
    },
    "tags": []
   },
   "outputs": [
    {
     "data": {
      "application/javascript": [
       "parent.postMessage({\"jupyterEvent\": \"custom.exercise_interaction\", \"data\": {\"outcomeType\": 1, \"valueTowardsCompletion\": 0.16666666666666666, \"interactionType\": 1, \"questionType\": 4, \"questionId\": \"4_DropMissingRows\", \"learnToolsVersion\": \"0.3.4\", \"failureMessage\": \"\", \"exceptionClass\": \"\", \"trace\": \"\"}}, \"*\")"
      ],
      "text/plain": [
       "<IPython.core.display.Javascript object>"
      ]
     },
     "metadata": {},
     "output_type": "display_data"
    },
    {
     "data": {
      "text/markdown": [
       "<span style=\"color:#33cc33\">Correct:</span> \n",
       "\n",
       "There are no rows remaining in the dataset!"
      ],
      "text/plain": [
       "Correct: \n",
       "\n",
       "There are no rows remaining in the dataset!"
      ]
     },
     "metadata": {},
     "output_type": "display_data"
    }
   ],
   "source": [
    "# Check your answer (Run this code cell to receive credit!)\n",
    "q4.check()"
   ]
  },
  {
   "cell_type": "code",
   "execution_count": 12,
   "id": "55f27f91",
   "metadata": {
    "execution": {
     "iopub.execute_input": "2023-10-14T17:56:06.915955Z",
     "iopub.status.busy": "2023-10-14T17:56:06.915578Z",
     "iopub.status.idle": "2023-10-14T17:56:06.919949Z",
     "shell.execute_reply": "2023-10-14T17:56:06.918947Z"
    },
    "papermill": {
     "duration": 0.013694,
     "end_time": "2023-10-14T17:56:06.922018",
     "exception": false,
     "start_time": "2023-10-14T17:56:06.908324",
     "status": "completed"
    },
    "tags": []
   },
   "outputs": [],
   "source": [
    "# Line below will give you a hint\n",
    "#q4.hint()"
   ]
  },
  {
   "cell_type": "markdown",
   "id": "fc66b573",
   "metadata": {
    "papermill": {
     "duration": 0.005628,
     "end_time": "2023-10-14T17:56:06.933636",
     "exception": false,
     "start_time": "2023-10-14T17:56:06.928008",
     "status": "completed"
    },
    "tags": []
   },
   "source": [
    "# 5) Drop missing values: columns\n",
    "\n",
    "Now try removing all the columns with empty values.  \n",
    "- Create a new DataFrame called `sf_permits_with_na_dropped` that has all of the columns with empty values removed.  \n",
    "- How many columns were removed from the original `sf_permits` DataFrame? Use this number to set the value of the `dropped_columns` variable below."
   ]
  },
  {
   "cell_type": "code",
   "execution_count": 13,
   "id": "899a960c",
   "metadata": {
    "execution": {
     "iopub.execute_input": "2023-10-14T17:56:06.947831Z",
     "iopub.status.busy": "2023-10-14T17:56:06.946652Z",
     "iopub.status.idle": "2023-10-14T17:56:06.955696Z",
     "shell.execute_reply": "2023-10-14T17:56:06.954553Z"
    },
    "papermill": {
     "duration": 0.017971,
     "end_time": "2023-10-14T17:56:06.957562",
     "exception": false,
     "start_time": "2023-10-14T17:56:06.939591",
     "status": "completed"
    },
    "tags": []
   },
   "outputs": [
    {
     "data": {
      "application/javascript": [
       "parent.postMessage({\"jupyterEvent\": \"custom.exercise_interaction\", \"data\": {\"outcomeType\": 4, \"interactionType\": 1, \"questionType\": 1, \"questionId\": \"5_DropMissingCols\", \"learnToolsVersion\": \"0.3.4\", \"valueTowardsCompletion\": 0.0, \"failureMessage\": \"\", \"exceptionClass\": \"\", \"trace\": \"\"}}, \"*\")"
      ],
      "text/plain": [
       "<IPython.core.display.Javascript object>"
      ]
     },
     "metadata": {},
     "output_type": "display_data"
    },
    {
     "data": {
      "text/markdown": [
       "<span style=\"color:#ccaa33\">Check:</span> When you've updated the starter code, `check()` will tell you whether your code is correct. You need to update the code that creates variables `sf_permits_with_na_dropped`, `dropped_columns`"
      ],
      "text/plain": [
       "Check: When you've updated the starter code, `check()` will tell you whether your code is correct. You need to update the code that creates variables `sf_permits_with_na_dropped`, `dropped_columns`"
      ]
     },
     "metadata": {},
     "output_type": "display_data"
    }
   ],
   "source": [
    "# TODO: Your code here\n",
    "sf_permits_with_na_dropped = ____\n",
    "\n",
    "dropped_columns = ____\n",
    "\n",
    "# Check your answer\n",
    "q5.check()"
   ]
  },
  {
   "cell_type": "code",
   "execution_count": 14,
   "id": "25bb067a",
   "metadata": {
    "execution": {
     "iopub.execute_input": "2023-10-14T17:56:06.971531Z",
     "iopub.status.busy": "2023-10-14T17:56:06.971205Z",
     "iopub.status.idle": "2023-10-14T17:56:06.975310Z",
     "shell.execute_reply": "2023-10-14T17:56:06.974319Z"
    },
    "papermill": {
     "duration": 0.01348,
     "end_time": "2023-10-14T17:56:06.977146",
     "exception": false,
     "start_time": "2023-10-14T17:56:06.963666",
     "status": "completed"
    },
    "tags": []
   },
   "outputs": [],
   "source": [
    "# Lines below will give you a hint or solution code\n",
    "#q5.hint()\n",
    "#q5.solution()"
   ]
  },
  {
   "cell_type": "markdown",
   "id": "80a2adec",
   "metadata": {
    "papermill": {
     "duration": 0.005879,
     "end_time": "2023-10-14T17:56:06.989436",
     "exception": false,
     "start_time": "2023-10-14T17:56:06.983557",
     "status": "completed"
    },
    "tags": []
   },
   "source": [
    "# 6) Fill in missing values automatically\n",
    "\n",
    "Try replacing all the NaN's in the `sf_permits` data with the one that comes directly after it and then replacing any remaining NaN's with 0.  Set the result to a new DataFrame `sf_permits_with_na_imputed`."
   ]
  },
  {
   "cell_type": "code",
   "execution_count": 15,
   "id": "ab378dbf",
   "metadata": {
    "execution": {
     "iopub.execute_input": "2023-10-14T17:56:07.003470Z",
     "iopub.status.busy": "2023-10-14T17:56:07.003125Z",
     "iopub.status.idle": "2023-10-14T17:56:07.013882Z",
     "shell.execute_reply": "2023-10-14T17:56:07.012833Z"
    },
    "papermill": {
     "duration": 0.020476,
     "end_time": "2023-10-14T17:56:07.016065",
     "exception": false,
     "start_time": "2023-10-14T17:56:06.995589",
     "status": "completed"
    },
    "tags": []
   },
   "outputs": [
    {
     "data": {
      "application/javascript": [
       "parent.postMessage({\"jupyterEvent\": \"custom.exercise_interaction\", \"data\": {\"outcomeType\": 4, \"interactionType\": 1, \"questionType\": 1, \"questionId\": \"6_ImputeAutomatically\", \"learnToolsVersion\": \"0.3.4\", \"valueTowardsCompletion\": 0.0, \"failureMessage\": \"\", \"exceptionClass\": \"\", \"trace\": \"\"}}, \"*\")"
      ],
      "text/plain": [
       "<IPython.core.display.Javascript object>"
      ]
     },
     "metadata": {},
     "output_type": "display_data"
    },
    {
     "data": {
      "text/markdown": [
       "<span style=\"color:#ccaa33\">Check:</span> When you've updated the starter code, `check()` will tell you whether your code is correct. You need to update the code that creates variable `sf_permits_with_na_imputed`"
      ],
      "text/plain": [
       "Check: When you've updated the starter code, `check()` will tell you whether your code is correct. You need to update the code that creates variable `sf_permits_with_na_imputed`"
      ]
     },
     "metadata": {},
     "output_type": "display_data"
    }
   ],
   "source": [
    "# TODO: Your code here\n",
    "sf_permits_with_na_imputed = ____\n",
    "\n",
    "# Check your answer\n",
    "q6.check()"
   ]
  },
  {
   "cell_type": "code",
   "execution_count": 16,
   "id": "f8a6f351",
   "metadata": {
    "execution": {
     "iopub.execute_input": "2023-10-14T17:56:07.030750Z",
     "iopub.status.busy": "2023-10-14T17:56:07.030431Z",
     "iopub.status.idle": "2023-10-14T17:56:07.034203Z",
     "shell.execute_reply": "2023-10-14T17:56:07.033228Z"
    },
    "papermill": {
     "duration": 0.013737,
     "end_time": "2023-10-14T17:56:07.036273",
     "exception": false,
     "start_time": "2023-10-14T17:56:07.022536",
     "status": "completed"
    },
    "tags": []
   },
   "outputs": [],
   "source": [
    "# Lines below will give you a hint or solution code\n",
    "#q6.hint()\n",
    "#q6.solution()"
   ]
  },
  {
   "cell_type": "markdown",
   "id": "05029f62",
   "metadata": {
    "papermill": {
     "duration": 0.00618,
     "end_time": "2023-10-14T17:56:07.048968",
     "exception": false,
     "start_time": "2023-10-14T17:56:07.042788",
     "status": "completed"
    },
    "tags": []
   },
   "source": [
    "# More practice\n",
    "\n",
    "If you're looking for more practice handling missing values:\n",
    "\n",
    "* Check out [this noteboook](https://www.kaggle.com/alexisbcook/missing-values) on handling missing values using scikit-learn's imputer. \n",
    "* Look back at the \"Zipcode\" column in the `sf_permits` dataset, which has some missing values. How would you go about figuring out what the actual zipcode of each address should be? (You might try using another dataset. You can search for datasets about San Fransisco on the [Datasets listing](https://www.kaggle.com/datasets).) \n",
    "\n",
    "# Keep going\n",
    "\n",
    "In the next lesson, learn how to [**apply scaling and normalization**](https://www.kaggle.com/alexisbcook/scaling-and-normalization) to transform your data."
   ]
  },
  {
   "cell_type": "markdown",
   "id": "6eefaac4",
   "metadata": {
    "papermill": {
     "duration": 0.006043,
     "end_time": "2023-10-14T17:56:07.061404",
     "exception": false,
     "start_time": "2023-10-14T17:56:07.055361",
     "status": "completed"
    },
    "tags": []
   },
   "source": [
    "---\n",
    "\n",
    "\n",
    "\n",
    "\n",
    "*Have questions or comments? Visit the [course discussion forum](https://www.kaggle.com/learn/data-cleaning/discussion) to chat with other learners.*"
   ]
  }
 ],
 "metadata": {
  "kernelspec": {
   "display_name": "Python 3",
   "language": "python",
   "name": "python3"
  },
  "language_info": {
   "codemirror_mode": {
    "name": "ipython",
    "version": 3
   },
   "file_extension": ".py",
   "mimetype": "text/x-python",
   "name": "python",
   "nbconvert_exporter": "python",
   "pygments_lexer": "ipython3",
   "version": "3.10.12"
  },
  "papermill": {
   "default_parameters": {},
   "duration": 10.218328,
   "end_time": "2023-10-14T17:56:07.588498",
   "environment_variables": {},
   "exception": null,
   "input_path": "__notebook__.ipynb",
   "output_path": "__notebook__.ipynb",
   "parameters": {},
   "start_time": "2023-10-14T17:55:57.370170",
   "version": "2.4.0"
  }
 },
 "nbformat": 4,
 "nbformat_minor": 5
}
